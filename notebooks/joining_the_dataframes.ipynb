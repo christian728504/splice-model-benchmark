{
 "cells": [
  {
   "cell_type": "code",
   "execution_count": 12,
   "id": "6ab79fff",
   "metadata": {},
   "outputs": [
    {
     "name": "stdout",
     "output_type": "stream",
     "text": [
      "The autoreload extension is already loaded. To reload it, use:\n",
      "  %reload_ext autoreload\n"
     ]
    }
   ],
   "source": [
    "%load_ext autoreload\n",
    "%autoreload 2\n",
    "from IPython.display import display\n",
    "import functools\n",
    "import polars as pl\n",
    "import numpy as np\n",
    "import pandas as pd\n",
    "import scipy.stats as stats\n",
    "from scipy.stats import false_discovery_control\n",
    "import pickle\n",
    "import os\n",
    "os.chdir(\"/zata/zippy/ramirezc/splice-model-benchmark/golden_standard\")"
   ]
  },
  {
   "cell_type": "code",
   "execution_count": 2,
   "id": "84f2f34c",
   "metadata": {},
   "outputs": [],
   "source": [
    "with open('intron_file_paths.pkl', 'rb') as f:\n",
    "    paths = pickle.load(f)"
   ]
  },
  {
   "cell_type": "code",
   "execution_count": null,
   "id": "7085e518",
   "metadata": {},
   "outputs": [
    {
     "name": "stdout",
     "output_type": "stream",
     "text": [
      "['downloads/ENCBS481WHG/ENCFF564ONS.introns.filtered.tab', 'downloads/ENCBS914REQ/ENCFF502LAB.introns.filtered.tab', 'downloads/ENCBS756BZF/ENCFF623IBV.introns.filtered.tab', 'downloads/ENCBS075YII/ENCFF899RYN.introns.filtered.tab', 'downloads/ENCBS020DQC/ENCFF835KGV.introns.filtered.tab', 'downloads/ENCBS060KJN/ENCFF320GCF.introns.filtered.tab', 'downloads/ENCBS119CST/ENCFF045ZQI.introns.filtered.tab', 'downloads/ENCBS777OZT/ENCFF745DHX.introns.filtered.tab', 'downloads/ENCBS555BGE/ENCFF044LIA.introns.filtered.tab', 'downloads/ENCBS820SXP/ENCFF049QIP.introns.filtered.tab', 'downloads/ENCBS023JCN/ENCFF600UQU.introns.filtered.tab', 'downloads/ENCBS705XRW/ENCFF173JOL.introns.filtered.tab', 'downloads/ENCBS511ZVG/ENCFF100YYU.introns.filtered.tab', 'downloads/ENCBS021NLC/ENCFF100EPL.introns.filtered.tab', 'downloads/ENCBS112SEO/ENCFF007EDQ.introns.filtered.tab', 'downloads/ENCBS869GJQ/ENCFF259PEY.introns.filtered.tab', 'downloads/ENCBS996RLF/ENCFF903XBV.introns.filtered.tab', 'downloads/ENCBS710VQU/ENCFF349CHO.introns.filtered.tab', 'downloads/ENCBS961BBX/ENCFF395SXY.introns.filtered.tab', 'downloads/ENCBS806IYJ/ENCFF563QXX.introns.filtered.tab', 'downloads/ENCBS206PUV/ENCFF322UJU.introns.filtered.tab', 'downloads/ENCBS648NSQ/ENCFF545PJV.introns.filtered.tab', 'downloads/ENCBS632QXG/ENCFF018PZX.introns.filtered.tab', 'downloads/ENCBS365LJQ/ENCFF814ABW.introns.filtered.tab', 'downloads/ENCBS538ZJX/ENCFF193WEX.introns.filtered.tab', 'downloads/ENCBS734JMT/ENCFF118JEI.introns.filtered.tab', 'downloads/ENCBS735OAR/ENCFF132YCF.introns.filtered.tab', 'downloads/ENCBS580WTV/ENCFF840OVC.introns.filtered.tab', 'downloads/ENCBS271WJL/ENCFF291EKY.introns.filtered.tab', 'downloads/ENCBS975OUN/ENCFF219UJG.introns.filtered.tab', 'downloads/ENCBS741WNS/ENCFF693YCD.introns.filtered.tab', 'downloads/ENCBS629ZGV/ENCFF791WUV.introns.filtered.tab', 'downloads/ENCBS870VUM/ENCFF767KXS.introns.filtered.tab', 'downloads/ENCBS165LTN/ENCFF850YMO.introns.filtered.tab', 'downloads/ENCBS559YLX/ENCFF924HBV.introns.filtered.tab', 'downloads/ENCBS481ZAB/ENCFF099TJN.introns.filtered.tab', 'downloads/ENCBS238NAR/ENCFF660UTF.introns.filtered.tab', 'downloads/ENCBS375FZQ/ENCFF400LRT.introns.filtered.tab', 'downloads/ENCBS944CBA/ENCFF041RNG.introns.filtered.tab', 'downloads/ENCBS593PKA/ENCFF586RUA.introns.filtered.tab', 'downloads/ENCBS474NOC/ENCFF866EVJ.introns.filtered.tab', 'downloads/ENCBS966NKN/ENCFF875QHC.introns.filtered.tab', 'downloads/ENCBS944CBA/ENCFF373TKM.introns.filtered.tab', 'downloads/ENCBS593PKA/ENCFF985LGZ.introns.filtered.tab', 'downloads/ENCBS474NOC/ENCFF388HXU.introns.filtered.tab', 'downloads/ENCBS944CBA/ENCFF281OVX.introns.filtered.tab', 'downloads/ENCBS474NOC/ENCFF469VMX.introns.filtered.tab', 'downloads/ENCBS593PKA/ENCFF466MIS.introns.filtered.tab', 'downloads/ENCBS305JCM/ENCFF239CWJ.introns.filtered.tab', 'downloads/ENCBS326LXR/ENCFF698UNA.introns.filtered.tab', 'downloads/ENCBS731WFT/ENCFF626QRV.introns.filtered.tab', 'downloads/ENCBS105TFS/ENCFF171AQO.introns.filtered.tab', 'downloads/ENCBS863SFU/ENCFF702KGD.introns.filtered.tab', 'downloads/ENCBS534SPQ/ENCFF990ZNY.introns.filtered.tab', 'downloads/ENCBS434FZQ/ENCFF545CXA.introns.filtered.tab', 'downloads/ENCBS524YKH/ENCFF469ATL.introns.filtered.tab', 'downloads/ENCBS668AFC/ENCFF439BVT.introns.filtered.tab', 'downloads/ENCBS908TVF/ENCFF886FZQ.introns.filtered.tab', 'downloads/ENCBS496CPG/ENCFF449MVA.introns.filtered.tab', 'downloads/ENCBS372XQF/ENCFF319FBW.introns.filtered.tab', 'downloads/ENCBS100HNS/ENCFF992ZVE.introns.filtered.tab', 'downloads/ENCBS250FEP/ENCFF984RMR.introns.filtered.tab', 'downloads/ENCBS341KAA/ENCFF613SDS.introns.filtered.tab', 'downloads/ENCBS644WSW/ENCFF877QJZ.introns.filtered.tab', 'downloads/ENCBS422TMB/ENCFF406GQU.introns.filtered.tab', 'downloads/ENCBS819UHF/ENCFF773RAW.introns.filtered.tab', 'downloads/ENCBS105DDE/ENCFF279ABL.introns.filtered.tab', 'downloads/ENCBS660AUE/ENCFF378STM.introns.filtered.tab', 'downloads/ENCBS155WDP/ENCFF049QGQ.introns.filtered.tab', 'downloads/ENCBS155WDP/ENCFF846YHI.introns.filtered.tab', 'downloads/ENCBS932EVS/ENCFF117DUA.introns.filtered.tab', 'downloads/ENCBS932EVS/ENCFF772MSZ.introns.filtered.tab', 'downloads/ENCBS034WOR/ENCFF925MYC.introns.filtered.tab', 'downloads/ENCBS572IFJ/ENCFF558QPF.introns.filtered.tab', 'downloads/ENCBS892JRQ/ENCFF472TSL.introns.filtered.tab', 'downloads/ENCBS251SEQ/ENCFF973OML.introns.filtered.tab', 'downloads/ENCBS779FCS/ENCFF058HQU.introns.filtered.tab', 'downloads/ENCBS823URA/ENCFF074WRN.introns.filtered.tab', 'downloads/ENCBS756ETL/ENCFF583MSU.introns.filtered.tab', 'downloads/ENCBS832MSN/ENCFF803KIA.introns.filtered.tab', 'downloads/ENCBS825BIV/ENCFF509GHY.introns.filtered.tab', 'downloads/ENCBS713BMM/ENCFF292UIE.introns.filtered.tab', 'downloads/ENCBS654ADT/ENCFF738RAA.introns.filtered.tab', 'downloads/ENCBS759AII/ENCFF745HHL.introns.filtered.tab', 'downloads/ENCBS472VJA/ENCFF644PGG.introns.filtered.tab', 'downloads/ENCBS692CKU/ENCFF437SYY.introns.filtered.tab', 'downloads/ENCBS231BSF/ENCFF779VVX.introns.filtered.tab', 'downloads/ENCBS034QSD/ENCFF344KQF.introns.filtered.tab', 'downloads/ENCBS232CCX/ENCFF971JDY.introns.filtered.tab', 'downloads/ENCBS420JRY/ENCFF757LOZ.introns.filtered.tab', 'downloads/ENCBS725WGH/ENCFF809QBD.introns.filtered.tab', 'downloads/ENCBS911SOZ/ENCFF911RNV.introns.filtered.tab', 'downloads/ENCBS601OTT/ENCFF936VUF.introns.filtered.tab', 'downloads/ENCBS958FWY/ENCFF939EUU.introns.filtered.tab', 'downloads/ENCBS825BLU/ENCFF731THW.introns.filtered.tab', 'downloads/ENCBS200JOD/ENCFF319JFG.introns.filtered.tab', 'downloads/ENCBS417JEU/ENCFF901XCR.introns.filtered.tab', 'downloads/ENCBS789UUH/ENCFF305AFY.introns.filtered.tab', 'downloads/ENCBS411JUI/ENCFF222UTL.introns.filtered.tab', 'downloads/ENCBS239VAD/ENCFF100RGC.introns.filtered.tab', 'downloads/ENCBS239VAD/ENCFF927MKK.introns.filtered.tab']\n"
     ]
    }
   ],
   "source": [
    "paths_list = list(paths)\n",
    "print(paths_list)\n",
    "sample_dict = {\n",
    "    'path': paths_list,\n",
    "    'biosample': [path.split('/')[-2] for path in paths_list],\n",
    "    'accession': [path.split('/')[-1].split('.')[0] for path in paths_list]\n",
    "}\n",
    "sample_df = pl.from_dict(sample_dict)\n",
    "\n",
    "# id is reads_per_million\n",
    "dataframes = []\n",
    "for row in sample_df.iter_rows(named=True):\n",
    "    id = row['biosample'] + '_' + row['accession']\n",
    "    dataframes.append(\n",
    "        pl.read_csv(\n",
    "            row['path'], separator='\\t'\n",
    "        ).filter(\n",
    "            pl.col('reads') > 18\n",
    "        ).with_columns(\n",
    "            np.log2(pl.col('reads_per_million')).alias('reads_per_million')\n",
    "        )\n",
    "        # .with_columns(\n",
    "        #     ((pl.col('reads_per_million') - pl.col('reads_per_million').mean()) / pl.col('reads_per_million').std(ddof=1)).alias('reads_per_million')\n",
    "        # )\n",
    "        .select(\n",
    "            'chrom', 'start', 'end', 'strand', 'gene_name', 'reads_per_million'\n",
    "        ).rename(\n",
    "            {'reads_per_million': id}\n",
    "        ).to_pandas()\n",
    "    )"
   ]
  },
  {
   "cell_type": "code",
   "execution_count": 4,
   "id": "24a3da3a",
   "metadata": {},
   "outputs": [],
   "source": [
    "# TYSM: https://stackoverflow.com/questions/23668427/pandas-three-way-joining-multiple-dataframes-on-columns\n",
    "full_dataframe = functools.reduce(lambda left, right: pd.merge(left, right, on=['chrom', 'start', 'end', 'strand', 'gene_name'], how='outer'), dataframes)"
   ]
  },
  {
   "cell_type": "code",
   "execution_count": 5,
   "id": "984a88c0",
   "metadata": {},
   "outputs": [
    {
     "data": {
      "text/html": [
       "<div><style>\n",
       ".dataframe > thead > tr,\n",
       ".dataframe > tbody > tr {\n",
       "  text-align: right;\n",
       "  white-space: pre-wrap;\n",
       "}\n",
       "</style>\n",
       "<small>shape: (144_622, 106)</small><table border=\"1\" class=\"dataframe\"><thead><tr><th>chrom</th><th>start</th><th>end</th><th>strand</th><th>gene_name</th><th>ENCBS481WHG_ENCFF564ONS</th><th>ENCBS914REQ_ENCFF502LAB</th><th>ENCBS756BZF_ENCFF623IBV</th><th>ENCBS075YII_ENCFF899RYN</th><th>ENCBS020DQC_ENCFF835KGV</th><th>ENCBS060KJN_ENCFF320GCF</th><th>ENCBS119CST_ENCFF045ZQI</th><th>ENCBS777OZT_ENCFF745DHX</th><th>ENCBS555BGE_ENCFF044LIA</th><th>ENCBS820SXP_ENCFF049QIP</th><th>ENCBS023JCN_ENCFF600UQU</th><th>ENCBS705XRW_ENCFF173JOL</th><th>ENCBS511ZVG_ENCFF100YYU</th><th>ENCBS021NLC_ENCFF100EPL</th><th>ENCBS112SEO_ENCFF007EDQ</th><th>ENCBS869GJQ_ENCFF259PEY</th><th>ENCBS996RLF_ENCFF903XBV</th><th>ENCBS710VQU_ENCFF349CHO</th><th>ENCBS961BBX_ENCFF395SXY</th><th>ENCBS806IYJ_ENCFF563QXX</th><th>ENCBS206PUV_ENCFF322UJU</th><th>ENCBS648NSQ_ENCFF545PJV</th><th>ENCBS632QXG_ENCFF018PZX</th><th>ENCBS365LJQ_ENCFF814ABW</th><th>ENCBS538ZJX_ENCFF193WEX</th><th>ENCBS734JMT_ENCFF118JEI</th><th>ENCBS735OAR_ENCFF132YCF</th><th>ENCBS580WTV_ENCFF840OVC</th><th>ENCBS271WJL_ENCFF291EKY</th><th>ENCBS975OUN_ENCFF219UJG</th><th>ENCBS741WNS_ENCFF693YCD</th><th>ENCBS629ZGV_ENCFF791WUV</th><th>&hellip;</th><th>ENCBS422TMB_ENCFF406GQU</th><th>ENCBS819UHF_ENCFF773RAW</th><th>ENCBS105DDE_ENCFF279ABL</th><th>ENCBS660AUE_ENCFF378STM</th><th>ENCBS155WDP_ENCFF049QGQ</th><th>ENCBS155WDP_ENCFF846YHI</th><th>ENCBS932EVS_ENCFF117DUA</th><th>ENCBS932EVS_ENCFF772MSZ</th><th>ENCBS034WOR_ENCFF925MYC</th><th>ENCBS572IFJ_ENCFF558QPF</th><th>ENCBS892JRQ_ENCFF472TSL</th><th>ENCBS251SEQ_ENCFF973OML</th><th>ENCBS779FCS_ENCFF058HQU</th><th>ENCBS823URA_ENCFF074WRN</th><th>ENCBS756ETL_ENCFF583MSU</th><th>ENCBS832MSN_ENCFF803KIA</th><th>ENCBS825BIV_ENCFF509GHY</th><th>ENCBS713BMM_ENCFF292UIE</th><th>ENCBS654ADT_ENCFF738RAA</th><th>ENCBS759AII_ENCFF745HHL</th><th>ENCBS472VJA_ENCFF644PGG</th><th>ENCBS692CKU_ENCFF437SYY</th><th>ENCBS231BSF_ENCFF779VVX</th><th>ENCBS034QSD_ENCFF344KQF</th><th>ENCBS232CCX_ENCFF971JDY</th><th>ENCBS420JRY_ENCFF757LOZ</th><th>ENCBS725WGH_ENCFF809QBD</th><th>ENCBS911SOZ_ENCFF911RNV</th><th>ENCBS601OTT_ENCFF936VUF</th><th>ENCBS958FWY_ENCFF939EUU</th><th>ENCBS825BLU_ENCFF731THW</th><th>ENCBS200JOD_ENCFF319JFG</th><th>ENCBS417JEU_ENCFF901XCR</th><th>ENCBS789UUH_ENCFF305AFY</th><th>ENCBS411JUI_ENCFF222UTL</th><th>ENCBS239VAD_ENCFF100RGC</th><th>ENCBS239VAD_ENCFF927MKK</th></tr><tr><td>str</td><td>i64</td><td>i64</td><td>str</td><td>str</td><td>f64</td><td>f64</td><td>f64</td><td>f64</td><td>f64</td><td>f64</td><td>f64</td><td>f64</td><td>f64</td><td>f64</td><td>f64</td><td>f64</td><td>f64</td><td>f64</td><td>f64</td><td>f64</td><td>f64</td><td>f64</td><td>f64</td><td>f64</td><td>f64</td><td>f64</td><td>f64</td><td>f64</td><td>f64</td><td>f64</td><td>f64</td><td>f64</td><td>f64</td><td>f64</td><td>f64</td><td>f64</td><td>&hellip;</td><td>f64</td><td>f64</td><td>f64</td><td>f64</td><td>f64</td><td>f64</td><td>f64</td><td>f64</td><td>f64</td><td>f64</td><td>f64</td><td>f64</td><td>f64</td><td>f64</td><td>f64</td><td>f64</td><td>f64</td><td>f64</td><td>f64</td><td>f64</td><td>f64</td><td>f64</td><td>f64</td><td>f64</td><td>f64</td><td>f64</td><td>f64</td><td>f64</td><td>f64</td><td>f64</td><td>f64</td><td>f64</td><td>f64</td><td>f64</td><td>f64</td><td>f64</td><td>f64</td></tr></thead><tbody><tr><td>&quot;chr1&quot;</td><td>924948</td><td>925921</td><td>&quot;+&quot;</td><td>&quot;SAMD11&quot;</td><td>null</td><td>null</td><td>null</td><td>null</td><td>null</td><td>3.731355</td><td>null</td><td>null</td><td>null</td><td>null</td><td>null</td><td>null</td><td>null</td><td>null</td><td>null</td><td>null</td><td>null</td><td>null</td><td>null</td><td>null</td><td>null</td><td>null</td><td>null</td><td>null</td><td>null</td><td>null</td><td>null</td><td>null</td><td>4.949077</td><td>null</td><td>null</td><td>null</td><td>&hellip;</td><td>null</td><td>null</td><td>null</td><td>null</td><td>null</td><td>null</td><td>null</td><td>null</td><td>null</td><td>null</td><td>null</td><td>null</td><td>null</td><td>null</td><td>null</td><td>null</td><td>null</td><td>null</td><td>null</td><td>null</td><td>null</td><td>null</td><td>null</td><td>null</td><td>null</td><td>null</td><td>null</td><td>null</td><td>null</td><td>null</td><td>null</td><td>null</td><td>null</td><td>null</td><td>null</td><td>null</td><td>null</td></tr><tr><td>&quot;chr1&quot;</td><td>926013</td><td>930154</td><td>&quot;+&quot;</td><td>&quot;SAMD11&quot;</td><td>null</td><td>null</td><td>null</td><td>null</td><td>null</td><td>3.908233</td><td>null</td><td>null</td><td>null</td><td>null</td><td>null</td><td>null</td><td>null</td><td>null</td><td>null</td><td>null</td><td>null</td><td>null</td><td>null</td><td>null</td><td>null</td><td>null</td><td>null</td><td>null</td><td>null</td><td>null</td><td>null</td><td>null</td><td>5.069371</td><td>null</td><td>null</td><td>null</td><td>&hellip;</td><td>null</td><td>null</td><td>null</td><td>null</td><td>null</td><td>null</td><td>null</td><td>null</td><td>null</td><td>null</td><td>null</td><td>null</td><td>null</td><td>null</td><td>null</td><td>null</td><td>null</td><td>null</td><td>null</td><td>null</td><td>null</td><td>null</td><td>null</td><td>null</td><td>null</td><td>null</td><td>null</td><td>null</td><td>null</td><td>null</td><td>null</td><td>null</td><td>null</td><td>null</td><td>null</td><td>null</td><td>null</td></tr><tr><td>&quot;chr1&quot;</td><td>930336</td><td>931038</td><td>&quot;+&quot;</td><td>&quot;SAMD11&quot;</td><td>null</td><td>null</td><td>null</td><td>null</td><td>null</td><td>3.85165</td><td>null</td><td>null</td><td>null</td><td>null</td><td>null</td><td>null</td><td>null</td><td>null</td><td>null</td><td>null</td><td>null</td><td>null</td><td>null</td><td>null</td><td>null</td><td>null</td><td>null</td><td>null</td><td>null</td><td>3.565954</td><td>null</td><td>null</td><td>5.332405</td><td>null</td><td>null</td><td>null</td><td>&hellip;</td><td>null</td><td>null</td><td>null</td><td>null</td><td>null</td><td>null</td><td>null</td><td>null</td><td>null</td><td>null</td><td>null</td><td>null</td><td>null</td><td>null</td><td>null</td><td>null</td><td>null</td><td>null</td><td>null</td><td>null</td><td>null</td><td>null</td><td>null</td><td>null</td><td>null</td><td>null</td><td>null</td><td>null</td><td>null</td><td>null</td><td>null</td><td>null</td><td>null</td><td>null</td><td>null</td><td>null</td><td>null</td></tr><tr><td>&quot;chr1&quot;</td><td>931089</td><td>935771</td><td>&quot;+&quot;</td><td>&quot;SAMD11&quot;</td><td>null</td><td>null</td><td>null</td><td>null</td><td>null</td><td>3.908233</td><td>null</td><td>null</td><td>null</td><td>null</td><td>null</td><td>null</td><td>null</td><td>null</td><td>null</td><td>null</td><td>null</td><td>null</td><td>null</td><td>null</td><td>null</td><td>null</td><td>null</td><td>null</td><td>null</td><td>null</td><td>null</td><td>null</td><td>5.23287</td><td>null</td><td>null</td><td>null</td><td>&hellip;</td><td>null</td><td>null</td><td>null</td><td>null</td><td>null</td><td>null</td><td>null</td><td>null</td><td>null</td><td>null</td><td>null</td><td>null</td><td>null</td><td>null</td><td>null</td><td>null</td><td>null</td><td>null</td><td>null</td><td>null</td><td>null</td><td>null</td><td>null</td><td>null</td><td>null</td><td>null</td><td>null</td><td>null</td><td>null</td><td>null</td><td>null</td><td>null</td><td>null</td><td>null</td><td>null</td><td>null</td><td>null</td></tr><tr><td>&quot;chr1&quot;</td><td>935896</td><td>939039</td><td>&quot;+&quot;</td><td>&quot;SAMD11&quot;</td><td>null</td><td>null</td><td>null</td><td>null</td><td>null</td><td>4.015148</td><td>null</td><td>null</td><td>null</td><td>null</td><td>null</td><td>null</td><td>null</td><td>null</td><td>null</td><td>null</td><td>null</td><td>null</td><td>null</td><td>null</td><td>null</td><td>null</td><td>null</td><td>null</td><td>null</td><td>3.565954</td><td>null</td><td>null</td><td>5.23287</td><td>null</td><td>null</td><td>null</td><td>&hellip;</td><td>null</td><td>null</td><td>null</td><td>null</td><td>null</td><td>null</td><td>null</td><td>null</td><td>null</td><td>null</td><td>null</td><td>null</td><td>null</td><td>null</td><td>null</td><td>null</td><td>null</td><td>null</td><td>null</td><td>null</td><td>null</td><td>null</td><td>null</td><td>null</td><td>null</td><td>null</td><td>null</td><td>null</td><td>null</td><td>null</td><td>null</td><td>null</td><td>null</td><td>null</td><td>null</td><td>null</td><td>null</td></tr><tr><td>&hellip;</td><td>&hellip;</td><td>&hellip;</td><td>&hellip;</td><td>&hellip;</td><td>&hellip;</td><td>&hellip;</td><td>&hellip;</td><td>&hellip;</td><td>&hellip;</td><td>&hellip;</td><td>&hellip;</td><td>&hellip;</td><td>&hellip;</td><td>&hellip;</td><td>&hellip;</td><td>&hellip;</td><td>&hellip;</td><td>&hellip;</td><td>&hellip;</td><td>&hellip;</td><td>&hellip;</td><td>&hellip;</td><td>&hellip;</td><td>&hellip;</td><td>&hellip;</td><td>&hellip;</td><td>&hellip;</td><td>&hellip;</td><td>&hellip;</td><td>&hellip;</td><td>&hellip;</td><td>&hellip;</td><td>&hellip;</td><td>&hellip;</td><td>&hellip;</td><td>&hellip;</td><td>&hellip;</td><td>&hellip;</td><td>&hellip;</td><td>&hellip;</td><td>&hellip;</td><td>&hellip;</td><td>&hellip;</td><td>&hellip;</td><td>&hellip;</td><td>&hellip;</td><td>&hellip;</td><td>&hellip;</td><td>&hellip;</td><td>&hellip;</td><td>&hellip;</td><td>&hellip;</td><td>&hellip;</td><td>&hellip;</td><td>&hellip;</td><td>&hellip;</td><td>&hellip;</td><td>&hellip;</td><td>&hellip;</td><td>&hellip;</td><td>&hellip;</td><td>&hellip;</td><td>&hellip;</td><td>&hellip;</td><td>&hellip;</td><td>&hellip;</td><td>&hellip;</td><td>&hellip;</td><td>&hellip;</td><td>&hellip;</td><td>&hellip;</td><td>&hellip;</td><td>&hellip;</td><td>&hellip;</td></tr><tr><td>&quot;chrY&quot;</td><td>20579691</td><td>20582589</td><td>&quot;+&quot;</td><td>&quot;EIF1AY&quot;</td><td>null</td><td>null</td><td>6.264525</td><td>null</td><td>null</td><td>null</td><td>null</td><td>null</td><td>null</td><td>5.641109</td><td>5.457032</td><td>6.615281</td><td>null</td><td>null</td><td>6.119373</td><td>6.322933</td><td>null</td><td>null</td><td>null</td><td>null</td><td>null</td><td>null</td><td>6.48223</td><td>null</td><td>null</td><td>null</td><td>6.259985</td><td>6.761406</td><td>6.23287</td><td>null</td><td>null</td><td>null</td><td>&hellip;</td><td>null</td><td>null</td><td>null</td><td>null</td><td>4.668331</td><td>null</td><td>null</td><td>5.269015</td><td>null</td><td>null</td><td>null</td><td>null</td><td>null</td><td>null</td><td>null</td><td>null</td><td>null</td><td>null</td><td>null</td><td>null</td><td>null</td><td>null</td><td>null</td><td>null</td><td>null</td><td>4.786175</td><td>null</td><td>null</td><td>null</td><td>null</td><td>null</td><td>null</td><td>null</td><td>null</td><td>null</td><td>4.855306</td><td>6.048332</td></tr><tr><td>&quot;chrY&quot;</td><td>20582693</td><td>20584473</td><td>&quot;+&quot;</td><td>&quot;EIF1AY&quot;</td><td>null</td><td>null</td><td>6.207942</td><td>null</td><td>null</td><td>null</td><td>null</td><td>null</td><td>null</td><td>5.618208</td><td>5.418557</td><td>6.615281</td><td>null</td><td>null</td><td>6.119373</td><td>6.228957</td><td>null</td><td>null</td><td>null</td><td>null</td><td>null</td><td>null</td><td>6.42083</td><td>null</td><td>null</td><td>null</td><td>6.218565</td><td>6.74463</td><td>6.180402</td><td>null</td><td>null</td><td>null</td><td>&hellip;</td><td>null</td><td>null</td><td>null</td><td>null</td><td>4.668331</td><td>4.635258</td><td>null</td><td>5.105517</td><td>null</td><td>null</td><td>null</td><td>null</td><td>null</td><td>null</td><td>null</td><td>null</td><td>null</td><td>null</td><td>null</td><td>null</td><td>null</td><td>null</td><td>null</td><td>null</td><td>null</td><td>4.786175</td><td>null</td><td>null</td><td>null</td><td>null</td><td>null</td><td>null</td><td>null</td><td>null</td><td>null</td><td>4.784916</td><td>5.938707</td></tr><tr><td>&quot;chrY&quot;</td><td>20584524</td><td>20588023</td><td>&quot;+&quot;</td><td>&quot;EIF1AY&quot;</td><td>null</td><td>null</td><td>6.207942</td><td>null</td><td>null</td><td>null</td><td>null</td><td>null</td><td>null</td><td>5.594938</td><td>5.365608</td><td>6.615281</td><td>null</td><td>null</td><td>6.094711</td><td>6.186728</td><td>null</td><td>null</td><td>null</td><td>null</td><td>null</td><td>null</td><td>6.42083</td><td>null</td><td>null</td><td>null</td><td>6.232504</td><td>6.74463</td><td>6.206875</td><td>null</td><td>null</td><td>null</td><td>&hellip;</td><td>null</td><td>null</td><td>null</td><td>null</td><td>4.668331</td><td>4.635258</td><td>null</td><td>4.985222</td><td>null</td><td>null</td><td>null</td><td>null</td><td>null</td><td>null</td><td>null</td><td>null</td><td>null</td><td>null</td><td>null</td><td>null</td><td>null</td><td>null</td><td>null</td><td>null</td><td>null</td><td>4.786175</td><td>null</td><td>null</td><td>null</td><td>null</td><td>null</td><td>null</td><td>null</td><td>null</td><td>null</td><td>4.784916</td><td>5.938707</td></tr><tr><td>&quot;chrY&quot;</td><td>20588105</td><td>20589483</td><td>&quot;+&quot;</td><td>&quot;EIF1AY&quot;</td><td>null</td><td>null</td><td>6.227051</td><td>null</td><td>null</td><td>null</td><td>null</td><td>null</td><td>null</td><td>5.641109</td><td>5.457032</td><td>6.637307</td><td>null</td><td>null</td><td>6.131548</td><td>6.322933</td><td>null</td><td>null</td><td>null</td><td>null</td><td>null</td><td>null</td><td>6.451857</td><td>null</td><td>null</td><td>null</td><td>6.273531</td><td>6.777988</td><td>6.23287</td><td>null</td><td>null</td><td>null</td><td>&hellip;</td><td>null</td><td>null</td><td>null</td><td>null</td><td>4.668331</td><td>4.635258</td><td>null</td><td>5.216548</td><td>null</td><td>null</td><td>null</td><td>null</td><td>null</td><td>null</td><td>null</td><td>null</td><td>null</td><td>null</td><td>null</td><td>null</td><td>null</td><td>null</td><td>null</td><td>null</td><td>null</td><td>4.786175</td><td>null</td><td>null</td><td>null</td><td>null</td><td>null</td><td>null</td><td>null</td><td>null</td><td>null</td><td>4.784916</td><td>5.976182</td></tr><tr><td>&quot;chrY&quot;</td><td>20589575</td><td>20592340</td><td>&quot;+&quot;</td><td>&quot;EIF1AY&quot;</td><td>null</td><td>null</td><td>6.227051</td><td>null</td><td>null</td><td>null</td><td>null</td><td>null</td><td>null</td><td>5.618208</td><td>5.457032</td><td>6.637307</td><td>null</td><td>null</td><td>6.131548</td><td>6.309877</td><td>null</td><td>null</td><td>null</td><td>null</td><td>null</td><td>null</td><td>6.451857</td><td>null</td><td>null</td><td>null</td><td>6.259985</td><td>6.777988</td><td>6.23287</td><td>null</td><td>null</td><td>null</td><td>&hellip;</td><td>null</td><td>null</td><td>null</td><td>null</td><td>4.668331</td><td>4.635258</td><td>null</td><td>5.1621</td><td>null</td><td>null</td><td>null</td><td>null</td><td>null</td><td>null</td><td>null</td><td>null</td><td>null</td><td>null</td><td>null</td><td>null</td><td>null</td><td>null</td><td>null</td><td>null</td><td>null</td><td>4.786175</td><td>null</td><td>null</td><td>null</td><td>null</td><td>null</td><td>null</td><td>null</td><td>null</td><td>null</td><td>4.784916</td><td>5.976182</td></tr></tbody></table></div>"
      ],
      "text/plain": [
       "shape: (144_622, 106)\n",
       "┌───────┬──────────┬──────────┬────────┬───┬─────────────┬─────────────┬─────────────┬─────────────┐\n",
       "│ chrom ┆ start    ┆ end      ┆ strand ┆ … ┆ ENCBS789UUH ┆ ENCBS411JUI ┆ ENCBS239VAD ┆ ENCBS239VAD │\n",
       "│ ---   ┆ ---      ┆ ---      ┆ ---    ┆   ┆ _ENCFF305AF ┆ _ENCFF222UT ┆ _ENCFF100RG ┆ _ENCFF927MK │\n",
       "│ str   ┆ i64      ┆ i64      ┆ str    ┆   ┆ Y           ┆ L           ┆ C           ┆ K           │\n",
       "│       ┆          ┆          ┆        ┆   ┆ ---         ┆ ---         ┆ ---         ┆ ---         │\n",
       "│       ┆          ┆          ┆        ┆   ┆ f64         ┆ f64         ┆ f64         ┆ f64         │\n",
       "╞═══════╪══════════╪══════════╪════════╪═══╪═════════════╪═════════════╪═════════════╪═════════════╡\n",
       "│ chr1  ┆ 924948   ┆ 925921   ┆ +      ┆ … ┆ null        ┆ null        ┆ null        ┆ null        │\n",
       "│ chr1  ┆ 926013   ┆ 930154   ┆ +      ┆ … ┆ null        ┆ null        ┆ null        ┆ null        │\n",
       "│ chr1  ┆ 930336   ┆ 931038   ┆ +      ┆ … ┆ null        ┆ null        ┆ null        ┆ null        │\n",
       "│ chr1  ┆ 931089   ┆ 935771   ┆ +      ┆ … ┆ null        ┆ null        ┆ null        ┆ null        │\n",
       "│ chr1  ┆ 935896   ┆ 939039   ┆ +      ┆ … ┆ null        ┆ null        ┆ null        ┆ null        │\n",
       "│ …     ┆ …        ┆ …        ┆ …      ┆ … ┆ …           ┆ …           ┆ …           ┆ …           │\n",
       "│ chrY  ┆ 20579691 ┆ 20582589 ┆ +      ┆ … ┆ null        ┆ null        ┆ 4.855306    ┆ 6.048332    │\n",
       "│ chrY  ┆ 20582693 ┆ 20584473 ┆ +      ┆ … ┆ null        ┆ null        ┆ 4.784916    ┆ 5.938707    │\n",
       "│ chrY  ┆ 20584524 ┆ 20588023 ┆ +      ┆ … ┆ null        ┆ null        ┆ 4.784916    ┆ 5.938707    │\n",
       "│ chrY  ┆ 20588105 ┆ 20589483 ┆ +      ┆ … ┆ null        ┆ null        ┆ 4.784916    ┆ 5.976182    │\n",
       "│ chrY  ┆ 20589575 ┆ 20592340 ┆ +      ┆ … ┆ null        ┆ null        ┆ 4.784916    ┆ 5.976182    │\n",
       "└───────┴──────────┴──────────┴────────┴───┴─────────────┴─────────────┴─────────────┴─────────────┘"
      ]
     },
     "metadata": {},
     "output_type": "display_data"
    }
   ],
   "source": [
    "full_df_pl = pl.from_pandas(full_dataframe)\n",
    "bed_columns = ['chrom', 'start', 'end', 'strand', 'gene_name']\n",
    "sample_columns = [col for col in full_df_pl.columns if col not in bed_columns]\n",
    "non_zero_count = full_df_pl.with_columns(\n",
    "    (pl.sum_horizontal([pl.col(sample_columns) > 0]).alias('non_null_count'))\n",
    ")\n",
    "filtered_df = non_zero_count.filter(pl.col('non_null_count') >= 3).drop('non_null_count')\n",
    "display(filtered_df)"
   ]
  },
  {
   "cell_type": "code",
   "execution_count": 6,
   "id": "72ed8310",
   "metadata": {},
   "outputs": [
    {
     "data": {
      "text/plain": [
       "{'ENCBS481WHG': 'dorsolateral prefrontal cortex',\n",
       " 'ENCBS660AUE': 'dorsolateral prefrontal cortex',\n",
       " 'ENCBS422TMB': 'dorsolateral prefrontal cortex',\n",
       " 'ENCBS644WSW': 'dorsolateral prefrontal cortex',\n",
       " 'ENCBS105DDE': 'dorsolateral prefrontal cortex',\n",
       " 'ENCBS819UHF': 'dorsolateral prefrontal cortex',\n",
       " 'ENCBS914REQ': 'heart left ventricle',\n",
       " 'ENCBS756BZF': 'heart left ventricle',\n",
       " 'ENCBS075YII': 'Caco-2',\n",
       " 'ENCBS020DQC': 'Caco-2',\n",
       " 'ENCBS060KJN': 'A673',\n",
       " 'ENCBS119CST': 'A673',\n",
       " 'ENCBS777OZT': 'Panc1',\n",
       " 'ENCBS555BGE': 'PC-3',\n",
       " 'ENCBS820SXP': 'endothelial cell of umbilical vein',\n",
       " 'ENCBS023JCN': 'endothelial cell of umbilical vein',\n",
       " 'ENCBS705XRW': 'Right ventricle myocardium inferior',\n",
       " 'ENCBS511ZVG': 'PC-9',\n",
       " 'ENCBS021NLC': 'PC-9',\n",
       " 'ENCBS112SEO': 'OCI-LY7',\n",
       " 'ENCBS869GJQ': 'OCI-LY7',\n",
       " 'ENCBS996RLF': 'mammary epithelial cell',\n",
       " 'ENCBS710VQU': 'mammary epithelial cell',\n",
       " 'ENCBS961BBX': 'Calu3',\n",
       " 'ENCBS806IYJ': 'Calu3',\n",
       " 'ENCBS206PUV': 'K562',\n",
       " 'ENCBS648NSQ': 'IMR-90',\n",
       " 'ENCBS632QXG': 'heart right ventricle',\n",
       " 'ENCBS365LJQ': 'HepG2',\n",
       " 'ENCBS538ZJX': 'psoas muscle',\n",
       " 'ENCBS734JMT': 'MCF-7',\n",
       " 'ENCBS863SFU': 'MCF 10A',\n",
       " 'ENCBS534SPQ': 'MCF 10A',\n",
       " 'ENCBS735OAR': 'left ventricle myocardium inferior',\n",
       " 'ENCBS580WTV': 'Right ventricle myocardium superior',\n",
       " 'ENCBS271WJL': 'right cardiac atrium',\n",
       " 'ENCBS975OUN': 'GM12878',\n",
       " 'ENCBS741WNS': 'posterior vena cava',\n",
       " 'ENCBS629ZGV': 'adrenal gland',\n",
       " 'ENCBS870VUM': 'lower lobe of right lung',\n",
       " 'ENCBS165LTN': 'left ventricle myocardium superior',\n",
       " 'ENCBS559YLX': 'lower lobe of left lung',\n",
       " 'ENCBS481ZAB': 'aorta',\n",
       " 'ENCBS238NAR': 'heart right ventricle',\n",
       " 'ENCBS375FZQ': 'HCT116',\n",
       " 'ENCBS944CBA': 'WTC11',\n",
       " 'ENCBS593PKA': 'WTC11',\n",
       " 'ENCBS474NOC': 'WTC11',\n",
       " 'ENCBS966NKN': 'right cardiac atrium',\n",
       " 'ENCBS305JCM': 'kidney',\n",
       " 'ENCBS326LXR': 'psoas muscle',\n",
       " 'ENCBS731WFT': 'cardiac septum',\n",
       " 'ENCBS105TFS': 'mucosa of descending colon',\n",
       " 'ENCBS434FZQ': 'chondrocyte',\n",
       " 'ENCBS524YKH': 'chondrocyte',\n",
       " 'ENCBS668AFC': 'chondrocyte',\n",
       " 'ENCBS908TVF': 'left colon',\n",
       " 'ENCBS496CPG': 'upper lobe of right lung',\n",
       " 'ENCBS372XQF': 'astrocyte',\n",
       " 'ENCBS100HNS': 'astrocyte',\n",
       " 'ENCBS250FEP': 'ovary',\n",
       " 'ENCBS341KAA': 'right cardiac atrium',\n",
       " 'ENCBS155WDP': 'GM23338',\n",
       " 'ENCBS932EVS': 'glutamatergic neuron',\n",
       " 'ENCBS034WOR': 'osteocyte',\n",
       " 'ENCBS572IFJ': 'osteocyte',\n",
       " 'ENCBS892JRQ': 'posterior vena cava',\n",
       " 'ENCBS251SEQ': 'type B pancreatic cell',\n",
       " 'ENCBS779FCS': 'type B pancreatic cell',\n",
       " 'ENCBS823URA': 'right lobe of liver',\n",
       " 'ENCBS472VJA': 'ovary',\n",
       " 'ENCBS756ETL': 'ovary',\n",
       " 'ENCBS232CCX': 'mesenteric fat pad',\n",
       " 'ENCBS832MSN': 'progenitor cell of endocrine pancreas',\n",
       " 'ENCBS825BIV': 'progenitor cell of endocrine pancreas',\n",
       " 'ENCBS713BMM': 'H9',\n",
       " 'ENCBS654ADT': 'H9',\n",
       " 'ENCBS789UUH': 'heart right ventricle',\n",
       " 'ENCBS759AII': 'aorta',\n",
       " 'ENCBS692CKU': 'heart left ventricle',\n",
       " 'ENCBS231BSF': 'lower lobe of left lung',\n",
       " 'ENCBS239VAD': 'endothelial cell',\n",
       " 'ENCBS034QSD': 'left cardiac atrium',\n",
       " 'ENCBS420JRY': 'left lung',\n",
       " 'ENCBS725WGH': 'left lung',\n",
       " 'ENCBS825BLU': 'mucosa of descending colon',\n",
       " 'ENCBS911SOZ': 'right cardiac atrium',\n",
       " 'ENCBS601OTT': 'endodermal cell',\n",
       " 'ENCBS958FWY': 'endodermal cell',\n",
       " 'ENCBS200JOD': 'neural crest cell',\n",
       " 'ENCBS417JEU': 'neural crest cell',\n",
       " 'ENCBS411JUI': 'dorsolateral prefrontal cortex'}"
      ]
     },
     "execution_count": 6,
     "metadata": {},
     "output_type": "execute_result"
    }
   ],
   "source": [
    "metadata = pl.read_csv('biosample_matched_rna_seq_experiments.tsv', separator='\\t')\n",
    "biosample_to_term_name = metadata.select('Biosample accession', 'Biosample term name')\n",
    "biosample_dict = dict(zip(\n",
    "    biosample_to_term_name['Biosample accession'],\n",
    "    biosample_to_term_name['Biosample term name']\n",
    "))\n",
    "biosample_dict"
   ]
  },
  {
   "cell_type": "code",
   "execution_count": null,
   "id": "4b6c134b",
   "metadata": {},
   "outputs": [
    {
     "name": "stderr",
     "output_type": "stream",
     "text": [
      "/tmp/ipykernel_2184829/4035217796.py:19: RuntimeWarning: Mean of empty slice\n",
      "  group_means = np.nanmean(group_data, axis=1)\n"
     ]
    }
   ],
   "source": [
    "biosample_groups = {}\n",
    "for col in sample_columns:\n",
    "    biosample_id = col.split('_')[0]\n",
    "    biosample_term_name = biosample_dict.get(biosample_id).replace(' ', '_')\n",
    "    biosample_groups.setdefault(biosample_term_name, []).append(col)\n",
    "    \n",
    "result_df = filtered_df.select(bed_columns).clone()\n",
    "\n",
    "all_sample_data = filtered_df.select(sample_columns).to_numpy()\n",
    "all_values = all_sample_data.flatten()\n",
    "valid_mask = ~np.isnan(all_values)\n",
    "global_mean = np.mean(all_values[valid_mask])\n",
    "global_std = np.std(all_values[valid_mask], ddof=1)\n",
    "\n",
    "non_nan_count = np.zeros(len(filtered_df))\n",
    "\n",
    "for biosample_term_name, columns in biosample_groups.items():\n",
    "    group_data = filtered_df.select(columns).to_numpy()\n",
    "    group_means = np.nanmean(group_data, axis=1)\n",
    "    z_scores = np.full(len(group_means), np.nan)\n",
    "    p_values = np.full(len(group_means), np.nan)  \n",
    "     \n",
    "    valid_indices = ~np.isnan(group_means)\n",
    "    if np.any(valid_indices) and global_std > 0:\n",
    "        z_scores[valid_indices] = (group_means[valid_indices] - global_mean) / global_std\n",
    "        p_values[valid_indices] = 2 * (1 - stats.norm.cdf(np.abs(z_scores[valid_indices])))\n",
    "    \n",
    "        adjusted_p_values = false_discovery_control(p_values[valid_indices], method='bh')\n",
    "        \n",
    "        full_adjusted_p_values = np.full_like(p_values, np.nan)\n",
    "        full_adjusted_p_values[valid_indices] = adjusted_p_values\n",
    "    \n",
    "    non_nan_mask = ~np.isnan(group_data)\n",
    "    row_has_value = np.any(non_nan_mask, axis=1)\n",
    "    non_nan_count += row_has_value.astype(int) \n",
    "    \n",
    "    write_df = result_df.with_columns([\n",
    "        pl.Series(z_scores).alias(\"zscore\"),\n",
    "        pl.Series(p_values).alias(\"pvalue\"),\n",
    "        pl.Series(full_adjusted_p_values).alias(\"adj_pvalue\"),\n",
    "        pl.Series(non_nan_count).alias(\"n_samples\")\n",
    "    ]).sort(\"adj_pvalue\")\n",
    "    write_df.write_csv(f\"sig_calcs/{biosample_term_name}.tsv\", separator='\\t')"
   ]
  },
  {
   "cell_type": "code",
   "execution_count": null,
   "id": "b90a80dc",
   "metadata": {},
   "outputs": [],
   "source": [
    "# import subprocess\n",
    "\n",
    "# genome_sizes = subprocess.run([\"cut\", \"-f1,2\", \"GRCh38_no_alt_analysis_set_GCA_000001405.15.fasta.fai\"],\n",
    "#                                      capture_output=True, text=True)\n",
    "# with open('genome.sizes', 'w') as f:\n",
    "#     f.write(genome_sizes.stdout)"
   ]
  },
  {
   "cell_type": "code",
   "execution_count": null,
   "id": "48d31af3",
   "metadata": {},
   "outputs": [],
   "source": []
  }
 ],
 "metadata": {
  "kernelspec": {
   "display_name": ".venv",
   "language": "python",
   "name": "python3"
  },
  "language_info": {
   "codemirror_mode": {
    "name": "ipython",
    "version": 3
   },
   "file_extension": ".py",
   "mimetype": "text/x-python",
   "name": "python",
   "nbconvert_exporter": "python",
   "pygments_lexer": "ipython3",
   "version": "3.10.12"
  }
 },
 "nbformat": 4,
 "nbformat_minor": 5
}
