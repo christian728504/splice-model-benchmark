{
 "cells": [
  {
   "cell_type": "code",
   "execution_count": 2,
   "id": "7dc2a10e",
   "metadata": {},
   "outputs": [
    {
     "name": "stderr",
     "output_type": "stream",
     "text": [
      "WARNING: The minimum distance between intervals in your blacklist is 0. It makes little biological sense to include small regions between two blacklisted regions. Instead, these should likely be blacklisted as well.\n"
     ]
    },
    {
     "name": "stdout",
     "output_type": "stream",
     "text": [
      "There are 70184575 alignments, of which 53567609 are completely within a blacklist region.\n",
      "Due to filtering, 95.39873767829457% of the aforementioned alignments will be used 15852375.804431397\n"
     ]
    },
    {
     "name": "stderr",
     "output_type": "stream",
     "text": [
      "normalization: RPKM\n",
      "bamFilesList: ['downloads/ENCBS020DQC/ENCFF099FKC.bam']\n",
      "binLength: 10\n",
      "numberOfSamples: None\n",
      "blackListFileName: None\n",
      "skipZeroOverZero: False\n",
      "bed_and_bin: False\n",
      "genomeChunkSize: None\n",
      "defaultFragmentLength: read length\n",
      "numberOfProcessors: 16\n",
      "verbose: False\n",
      "region: None\n",
      "bedFile: None\n",
      "minMappingQuality: None\n",
      "ignoreDuplicates: False\n",
      "chrsToSkip: []\n",
      "stepSize: 10\n",
      "center_read: False\n",
      "samFlag_include: None\n",
      "samFlag_exclude: None\n",
      "minFragmentLength: 0\n",
      "maxFragmentLength: 0\n",
      "zerosToNans: False\n",
      "smoothLength: None\n",
      "save_data: False\n",
      "out_file_for_raw_data: None\n",
      "maxPairedFragmentLength: 1000\n",
      "filter_strand: forward\n",
      "Offset: [1, -1]\n"
     ]
    },
    {
     "data": {
      "text/plain": [
       "CompletedProcess(args=['bamCoverage', '--bam', 'downloads/ENCBS020DQC/ENCFF099FKC.bam', '--outFileName', 'coverage.bg', '--outFileFormat', 'bedgraph', '--filterRNAstrand', 'forward', '--binSize', '10', '--blackListFileName', 'blacklist.bed', '--normalizeUsing', 'RPKM', '--numberOfProcessors', '16'], returncode=0)"
      ]
     },
     "execution_count": 2,
     "metadata": {},
     "output_type": "execute_result"
    }
   ],
   "source": [
    "import subprocess\n",
    "from pybedtools import BedTool\n",
    "import os\n",
    "os.environ['MPLBACKEND'] = 'Agg'\n",
    "os.chdir(\"/zata/zippy/ramirezc/splice-model-benchmark/golden_standard\")\n",
    "\n",
    "exons = BedTool('forward_exons.bed')\n",
    "merged_exons = exons.merge()\n",
    "sorted_exons = merged_exons.sort(g='genome.sizes')\n",
    "non_exonic = sorted_exons.complement(g='genome.sizes')\n",
    "non_exonic.saveas('blacklist.bed')\n",
    "\n",
    "cmd = [\n",
    "    \"bamCoverage\",\n",
    "    \"--bam\", 'downloads/ENCBS020DQC/ENCFF099FKC.bam',\n",
    "    \"--outFileName\", 'coverage.bg',\n",
    "    \"--outFileFormat\", \"bedgraph\",\n",
    "    \"--filterRNAstrand\", \"forward\",\n",
    "    \"--binSize\", \"10\",\n",
    "    \"--blackListFileName\", 'blacklist.bed',\n",
    "    \"--normalizeUsing\", \"RPKM\",\n",
    "    \"--numberOfProcessors\", '16'\n",
    "]\n",
    "subprocess.run(cmd, check=True)"
   ]
  },
  {
   "cell_type": "code",
   "execution_count": null,
   "id": "9fc26e8e",
   "metadata": {},
   "outputs": [],
   "source": []
  }
 ],
 "metadata": {
  "kernelspec": {
   "display_name": ".venv",
   "language": "python",
   "name": "python3"
  },
  "language_info": {
   "codemirror_mode": {
    "name": "ipython",
    "version": 3
   },
   "file_extension": ".py",
   "mimetype": "text/x-python",
   "name": "python",
   "nbconvert_exporter": "python",
   "pygments_lexer": "ipython3",
   "version": "3.10.12"
  }
 },
 "nbformat": 4,
 "nbformat_minor": 5
}
