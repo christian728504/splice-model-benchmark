{
 "cells": [
  {
   "cell_type": "code",
   "execution_count": null,
   "id": "41031b57",
   "metadata": {},
   "outputs": [],
   "source": [
    "import polars as pl\n",
    "import os\n",
    "os.chdir(\"/zata/zippy/ramirezc/splice-model-benchmark/golden_standard\")\n",
    "\n",
    "# GTF_PARQUET = pl.read_parquet('/zata/zippy/ramirezc/static_files/gencode.v29.basic.annotation.gtf.parquet')\n",
    "\n",
    "# exon_gtf = GTF_PARQUET.filter(\n",
    "#     pl.col('feature') == 'exon'\n",
    "# ).select(\n",
    "#     'seqname', 'start', 'end', 'strand'\n",
    "# ).rename(\n",
    "#     {'seqname': 'chrom'}\n",
    "# ).sort(\n",
    "#     'chrom', 'start'\n",
    "# )\n",
    "# forward_exon_gtf = exon_gtf.filter(pl.col('strand') == '+').drop('strand')\n",
    "# reverse_exon_gtf = exon_gtf.filter(pl.col('strand') == '-').drop('strand')\n",
    "# forward_exon_gtf.write_csv('forward_exons.bed', separator='\\t', include_header=False,)\n",
    "# reverse_exon_gtf.write_csv('reverse_exons.bed', separator='\\t', include_header=False,)"
   ]
  },
  {
   "cell_type": "code",
   "execution_count": 7,
   "id": "7dc2a10e",
   "metadata": {},
   "outputs": [],
   "source": [
    "import subprocess\n",
    "import gtfparse\n",
    "from pybedtools import BedTool\n",
    "import os\n",
    "os.getcwd\n",
    "os.chdir(\"/zata/zippy/ramirezc/splice-model-benchmark/golden_standard\")\n",
    "os.environ['MPLBACKEND'] = 'Agg'"
   ]
  },
  {
   "cell_type": "code",
   "execution_count": 2,
   "id": "9fc26e8e",
   "metadata": {},
   "outputs": [
    {
     "name": "stderr",
     "output_type": "stream",
     "text": [
      "Traceback (most recent call last):\n",
      "  File \"/home/ramirezc/.local/bin/bamCoverage\", line 5, in <module>\n",
      "    from deeptools.bamCoverage import main\n",
      "  File \"/home/ramirezc/.local/share/pipx/venvs/deeptools/lib/python3.10/site-packages/deeptools/bamCoverage.py\", line 8, in <module>\n",
      "    from deeptools import writeBedGraph  # This should be made directly into a bigWig\n",
      "  File \"/home/ramirezc/.local/share/pipx/venvs/deeptools/lib/python3.10/site-packages/deeptools/writeBedGraph.py\", line 9, in <module>\n",
      "    from deeptools.utilities import getCommonChrNames\n",
      "  File \"/home/ramirezc/.local/share/pipx/venvs/deeptools/lib/python3.10/site-packages/deeptools/utilities.py\", line 5, in <module>\n",
      "    import matplotlib as mpl\n",
      "  File \"/home/ramirezc/.local/share/pipx/venvs/deeptools/lib/python3.10/site-packages/matplotlib/__init__.py\", line 1296, in <module>\n",
      "    rcParams['backend'] = os.environ.get('MPLBACKEND')\n",
      "  File \"/home/ramirezc/.local/share/pipx/venvs/deeptools/lib/python3.10/site-packages/matplotlib/__init__.py\", line 771, in __setitem__\n",
      "    raise ValueError(f\"Key {key}: {ve}\") from None\n",
      "ValueError: Key backend: 'module://matplotlib_inline.backend_inline' is not a valid value for backend; supported values are ['gtk3agg', 'gtk3cairo', 'gtk4agg', 'gtk4cairo', 'macosx', 'nbagg', 'notebook', 'qtagg', 'qtcairo', 'qt5agg', 'qt5cairo', 'tkagg', 'tkcairo', 'webagg', 'wx', 'wxagg', 'wxcairo', 'agg', 'cairo', 'pdf', 'pgf', 'ps', 'svg', 'template']\n"
     ]
    },
    {
     "ename": "CalledProcessError",
     "evalue": "Command '['bamCoverage', '--bam', 'snakemake_output/ENCBS020DQC/ENCFF835KGV.filtered.bam', '--outFileName', 'coverage.bg', '--outFileFormat', 'bedgraph', '--filterRNAstrand', 'forward', '--binSize', '1', '--blackListFileName', 'blacklist.bed', '--normalizeUsing', 'RPKM', '--numberOfProcessors', '32']' returned non-zero exit status 1.",
     "output_type": "error",
     "traceback": [
      "\u001b[31m---------------------------------------------------------------------------\u001b[39m",
      "\u001b[31mCalledProcessError\u001b[39m                        Traceback (most recent call last)",
      "\u001b[36mCell\u001b[39m\u001b[36m \u001b[39m\u001b[32mIn[2]\u001b[39m\u001b[32m, line 18\u001b[39m\n\u001b[32m      5\u001b[39m blacklist.saveas(\u001b[33m'\u001b[39m\u001b[33mblacklist.bed\u001b[39m\u001b[33m'\u001b[39m)\n\u001b[32m      7\u001b[39m cmd = [\n\u001b[32m      8\u001b[39m     \u001b[33m\"\u001b[39m\u001b[33mbamCoverage\u001b[39m\u001b[33m\"\u001b[39m,\n\u001b[32m      9\u001b[39m     \u001b[33m\"\u001b[39m\u001b[33m--bam\u001b[39m\u001b[33m\"\u001b[39m, \u001b[33m'\u001b[39m\u001b[33msnakemake_output/ENCBS020DQC/ENCFF835KGV.filtered.bam\u001b[39m\u001b[33m'\u001b[39m,\n\u001b[32m   (...)\u001b[39m\u001b[32m     16\u001b[39m     \u001b[33m\"\u001b[39m\u001b[33m--numberOfProcessors\u001b[39m\u001b[33m\"\u001b[39m, \u001b[33m'\u001b[39m\u001b[33m32\u001b[39m\u001b[33m'\u001b[39m\n\u001b[32m     17\u001b[39m ]\n\u001b[32m---> \u001b[39m\u001b[32m18\u001b[39m bamCoverage = \u001b[43msubprocess\u001b[49m\u001b[43m.\u001b[49m\u001b[43mrun\u001b[49m\u001b[43m(\u001b[49m\u001b[43mcmd\u001b[49m\u001b[43m,\u001b[49m\u001b[43m \u001b[49m\u001b[43mcheck\u001b[49m\u001b[43m=\u001b[49m\u001b[38;5;28;43;01mTrue\u001b[39;49;00m\u001b[43m)\u001b[49m\n",
      "\u001b[36mFile \u001b[39m\u001b[32m~/.local/share/uv/python/cpython-3.11.11-linux-x86_64-gnu/lib/python3.11/subprocess.py:571\u001b[39m, in \u001b[36mrun\u001b[39m\u001b[34m(input, capture_output, timeout, check, *popenargs, **kwargs)\u001b[39m\n\u001b[32m    569\u001b[39m     retcode = process.poll()\n\u001b[32m    570\u001b[39m     \u001b[38;5;28;01mif\u001b[39;00m check \u001b[38;5;129;01mand\u001b[39;00m retcode:\n\u001b[32m--> \u001b[39m\u001b[32m571\u001b[39m         \u001b[38;5;28;01mraise\u001b[39;00m CalledProcessError(retcode, process.args,\n\u001b[32m    572\u001b[39m                                  output=stdout, stderr=stderr)\n\u001b[32m    573\u001b[39m \u001b[38;5;28;01mreturn\u001b[39;00m CompletedProcess(process.args, retcode, stdout, stderr)\n",
      "\u001b[31mCalledProcessError\u001b[39m: Command '['bamCoverage', '--bam', 'snakemake_output/ENCBS020DQC/ENCFF835KGV.filtered.bam', '--outFileName', 'coverage.bg', '--outFileFormat', 'bedgraph', '--filterRNAstrand', 'forward', '--binSize', '1', '--blackListFileName', 'blacklist.bed', '--normalizeUsing', 'RPKM', '--numberOfProcessors', '32']' returned non-zero exit status 1."
     ]
    }
   ],
   "source": [
    "exons = BedTool('forward_genes.bed')\n",
    "merged_exons = exons.merge()\n",
    "sorted_exons = merged_exons.sort(g='genome.sizes')\n",
    "blacklist = sorted_exons.complement(g='genome.sizes')\n",
    "blacklist.saveas('blacklist.bed')\n",
    "\n",
    "cmd = [\n",
    "    \"bamCoverage\",\n",
    "    \"--bam\", 'snakemake_output/ENCBS020DQC/ENCFF835KGV.filtered.bam',\n",
    "    \"--outFileName\", 'coverage.bg',\n",
    "    \"--outFileFormat\", \"bedgraph\",\n",
    "    \"--filterRNAstrand\", \"forward\",\n",
    "    \"--binSize\", \"1\",\n",
    "    \"--blackListFileName\", 'blacklist.bed',\n",
    "    \"--normalizeUsing\", \"RPKM\",\n",
    "    \"--numberOfProcessors\", '32'\n",
    "]\n",
    "bamCoverage = subprocess.run(cmd, check=True)"
   ]
  },
  {
   "cell_type": "code",
   "execution_count": 6,
   "id": "b017a346",
   "metadata": {},
   "outputs": [
    {
     "name": "stdout",
     "output_type": "stream",
     "text": [
      "--2025-05-16 01:49:44--  https://ftp.ebi.ac.uk/pub/databases/gencode/Gencode_human/release_48/gencode.v48.basic.annotation.gtf.gz\n",
      "Resolving ftp.ebi.ac.uk (ftp.ebi.ac.uk)... 193.62.193.165\n",
      "Connecting to ftp.ebi.ac.uk (ftp.ebi.ac.uk)|193.62.193.165|:443... connected.\n",
      "HTTP request sent, awaiting response... 200 OK\n",
      "Length: 33712235 (32M) [application/x-gzip]\n",
      "Saving to: ‘gencode.v48.basic.annotation.gtf.gz’\n",
      "\n",
      "gencode.v48.basic.a 100%[===================>]  32.15M  20.9MB/s    in 1.5s    \n",
      "\n",
      "2025-05-16 01:49:46 (20.9 MB/s) - ‘gencode.v48.basic.annotation.gtf.gz’ saved [33712235/33712235]\n",
      "\n"
     ]
    },
    {
     "name": "stderr",
     "output_type": "stream",
     "text": [
      "INFO:root:Extracted GTF attributes: ['gene_id', 'gene_type', 'gene_name', 'level', 'tag', 'transcript_id', 'transcript_type', 'transcript_name', 'exon_number', 'exon_id', 'hgnc_id', 'havana_gene', 'transcript_support_level', 'ont', 'havana_transcript', 'protein_id', 'ccdsid', 'artif_dupl']\n"
     ]
    }
   ],
   "source": [
    "!wget https://ftp.ebi.ac.uk/pub/databases/gencode/Gencode_human/release_48/gencode.v48.basic.annotation.gtf.gz\n",
    "!gunzip gencode.v48.basic.annotation.gtf.gz\n",
    "gtf = gtfparse.read_gtf('gencode.v48.basic.annotation.gtf')\n",
    "gtf.write_parquet('/zata/zippy/ramirezc/static_files/gencode.v48.basic.annotation.gtf.parquet')"
   ]
  },
  {
   "cell_type": "code",
   "execution_count": 10,
   "id": "33c97195",
   "metadata": {},
   "outputs": [],
   "source": [
    "import polars as pl\n",
    "import bioframe as bf\n",
    "\n",
    "intron_df = pl.read_csv('/zata/zippy/ramirezc/splice-model-benchmark/golden_standard/snakemake_output/ENCBS105DDE/ENCFF279ABL.introns.tab', separator='\\t')\n",
    "slim_gtf = pl.read_parquet('/zata/zippy/ramirezc/static_files/gencode.v48.basic.annotation.gtf.parquet').select(['seqname', 'start', 'end', 'strand', 'feature', 'gene_id', 'gene_name', 'gene_type'])\n",
    "filtered_gtf = slim_gtf.filter(pl.col('feature') == 'gene', pl.col('gene_type') == 'protein_coding').rename({'seqname': 'chrom'})\n",
    "overlaps = bf.overlap(\n",
    "    filtered_gtf.to_pandas(),\n",
    "    intron_df.to_pandas(),\n",
    "    on=['strand'],\n",
    "    how='inner',\n",
    "    suffixes=('_gene', '_intron')\n",
    ")\n",
    "\n",
    "contained = overlaps[\n",
    "    (overlaps['start_intron'] >= overlaps['start_gene']) & \n",
    "    (overlaps['end_intron'] <= overlaps['end_gene'])\n",
    "]\n",
    "contained_pl = pl.from_pandas(contained)\n",
    "unique_introns = contained_pl.unique(subset=['chrom_intron', 'start_intron', 'end_intron', 'strand_intron', 'reads_intron', 'reads_per_million_intron']).rename({'chrom_intron': 'chrom', 'start_intron': 'start', 'end_intron': 'end', 'strand_intron': 'strand', 'reads_intron': 'reads', 'reads_per_million_intron': 'reads_per_million', 'gene_name_gene': 'gene_name',}).select('chrom', 'start', 'end', 'strand', 'gene_name', 'reads', 'reads_per_million').sort('chrom', 'start')\n",
    "unique_introns.write_csv('test.bed', separator='\\t')"
   ]
  },
  {
   "cell_type": "code",
   "execution_count": null,
   "id": "65337596",
   "metadata": {},
   "outputs": [],
   "source": []
  }
 ],
 "metadata": {
  "kernelspec": {
   "display_name": ".venv",
   "language": "python",
   "name": "python3"
  },
  "language_info": {
   "codemirror_mode": {
    "name": "ipython",
    "version": 3
   },
   "file_extension": ".py",
   "mimetype": "text/x-python",
   "name": "python",
   "nbconvert_exporter": "python",
   "pygments_lexer": "ipython3",
   "version": "3.11.11"
  }
 },
 "nbformat": 4,
 "nbformat_minor": 5
}
