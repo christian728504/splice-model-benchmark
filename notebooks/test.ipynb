{
 "cells": [
  {
   "cell_type": "code",
   "execution_count": null,
   "id": "cc4748da",
   "metadata": {},
   "outputs": [],
   "source": [
    "import subprocess\n",
    "import os\n",
    "\n",
    "\n",
    "def make_fasta(output_dir = \"results\"):\n",
    "    os.makedirs(output_dir, exist_ok=True)\n",
    "    os.chdir(output_dir)\n",
    "\n",
    "    download_variants = \"wget https://ftp-trace.ncbi.nlm.nih.gov/ReferenceSamples/giab/release/NA12878_HG001/latest/GRCh38/HG001_GRCh38_1_22_v4.2.1_benchmark.vcf.gz\"\n",
    "    download_reference_genome = \"wget https://ftp-trace.ncbi.nlm.nih.gov/ReferenceSamples/giab/release/references/GRCh38/GCA_000001405.15_GRCh38_no_alt_analysis_set.fasta.gz && gunzip GCA_000001405.15_GRCh38_no_alt_analysis_set.fasta\"\n",
    "    get_biallelic_variants = \"bcftools view -v snps -m2 -M2 HG001_GRCh38_1_22_v4.2.1_benchmark.vcf.gz -Oz -o GM12878_SNPs_biallelic.vcf.gz\"\n",
    "    get_index = \"bcftools index GM12878_SNPs_biallelic.vcf.gz\"\n",
    "    get_consensus = \"bcftools consensus -f GCA_000001405.15_GRCh38_no_alt_analysis_set.fasta -H 1 GM12878_SNPs_biallelic.vcf.gz > GM12878.fasta\"\n",
    "\n",
    "    subprocess.run(download_variants, shell=True)\n",
    "    subprocess.run(download_reference_genome, shell=True)\n",
    "    subprocess.run(get_biallelic_variants, shell=True)\n",
    "    subprocess.run(get_index, shell=True)\n",
    "    subprocess.run(get_consensus, shell=True)\n",
    "\n",
    "    os.remove(path=\"HG001_GRCh38_1_22_v4.2.1_benchmark.vcf.gz\")\n",
    "    os.remove(path=\"GCA_000001405.15_GRCh38_no_alt_analysis_set.fasta\")\n",
    "    os.remove(path=\"GM12878_SNPs_biallelic.vcf.gz\")\n",
    "    os.remove(path=\"GM12878_SNPs_biallelic.vcf.gz.csi\")\n",
    "    \n",
    "    print(f\"Done! Fasta file saved to {output_dir}/GM12878.fasta\")"
   ]
  },
  {
   "cell_type": "code",
   "execution_count": null,
   "id": "7e7ae2f8",
   "metadata": {},
   "outputs": [],
   "source": [
    "make_fasta()"
   ]
  },
  {
   "cell_type": "code",
   "execution_count": null,
   "id": "b76f47dc",
   "metadata": {},
   "outputs": [],
   "source": [
    "from gtfparse import read_gtf\n",
    "import polars as pl\n",
    "from IPython.display import display"
   ]
  },
  {
   "cell_type": "code",
   "execution_count": null,
   "id": "f474385e",
   "metadata": {},
   "outputs": [],
   "source": [
    "df = read_gtf(\"/data/common/genome/gencode.v47.basic.annotation.gtf\")\n",
    "filtered_df = df.filter(\n",
    "    (pl.col('feature') == 'exon') &\n",
    "    (pl.col('gene_type') == 'protein_coding') &\n",
    "    (pl.col('seqname').is_in(['chr9']))\n",
    ")\n",
    "as_string = filtered_df.with_columns(pl.col('start').cast(pl.Utf8), pl.col('end').cast(pl.Utf8))\n",
    "as_num = as_string.with_columns(pl.col('exon_number').cast(pl.Int64))\n",
    "indexed_df = as_num.with_row_index()\n",
    "\n",
    "display(indexed_df)"
   ]
  },
  {
   "cell_type": "code",
   "execution_count": null,
   "id": "e267ed10",
   "metadata": {},
   "outputs": [],
   "source": [
    "# Get lists of first and last indices\n",
    "first_indices = []\n",
    "last_indices = []\n",
    "\n",
    "for _, group in indexed_df.group_by('transcript_id'):\n",
    "    sorted_group = group.sort('exon_number')\n",
    "    first_indices.append(sorted_group.row(0, named=True)['index'])\n",
    "    last_indices.append(sorted_group.row(-1, named=True)['index'])\n",
    "\n",
    "# Create update expressions\n",
    "placeholder_df = indexed_df.with_columns([\n",
    "    pl.when(pl.col(\"index\").is_in(first_indices))\n",
    "    .then(pl.lit(\"START\"))\n",
    "    .otherwise(pl.col(\"start\"))\n",
    "    .alias(\"start\"),\n",
    "    \n",
    "    pl.when(pl.col(\"index\").is_in(last_indices))\n",
    "    .then(pl.lit(\"END\"))\n",
    "    .otherwise(pl.col(\"end\"))\n",
    "    .alias(\"end\")\n",
    "])\n",
    "\n",
    "sorted_df = placeholder_df.sort('seqname', 'transcript_id', 'exon_number')\n",
    "\n",
    "display(sorted_df)"
   ]
  },
  {
   "cell_type": "code",
   "execution_count": null,
   "id": "ffd2dca9",
   "metadata": {},
   "outputs": [],
   "source": [
    "import polars as pl\n",
    "from IPython.display import display"
   ]
  },
  {
   "cell_type": "code",
   "execution_count": null,
   "id": "a47cbd6c",
   "metadata": {},
   "outputs": [],
   "source": [
    "quant_tsv_1 = pl.read_csv(\"../ENCFF189XTO.tsv\", separator='\\t')\n",
    "quant_tsv_2 = pl.read_csv(\"../ENCFF971DVB.tsv\", separator='\\t')\n",
    "display(quant_tsv_1)\n",
    "display(quant_tsv_2)\n"
   ]
  },
  {
   "cell_type": "code",
   "execution_count": null,
   "id": "57ddeacb",
   "metadata": {},
   "outputs": [],
   "source": [
    "joined_tsv = quant_tsv_1.join(quant_tsv_2, on='transcript_ID', how='inner')\n",
    "display(joined_tsv)\n",
    "\n",
    "averaged_counts = joined_tsv.with_columns(\n",
    "    ((pl.col('rep1ENCSR368UNC') + pl.col('rep2ENCSR368UNC')) / 2).alias('transcript_count')\n",
    ")\n",
    "clean_tsv = averaged_counts.select(\"annot_transcript_id\", \"annot_transcript_name\", \"transcript_count\")"
   ]
  },
  {
   "cell_type": "code",
   "execution_count": null,
   "id": "30b3683e",
   "metadata": {},
   "outputs": [],
   "source": [
    "import polars as pl \n",
    "from gtfparse import read_gtf"
   ]
  },
  {
   "cell_type": "code",
   "execution_count": null,
   "id": "f2ce26ea",
   "metadata": {},
   "outputs": [],
   "source": [
    "gtf_file = read_gtf(\"/data/common/genome/gencode.v44.basic.annotation.gtf\")\n",
    "gtf_file.write_parquet(\"../reference_files/gencode.v44.basic.annotation.gtf.parquet\")"
   ]
  },
  {
   "cell_type": "code",
   "execution_count": null,
   "id": "7090ea1c",
   "metadata": {},
   "outputs": [],
   "source": []
  },
  {
   "cell_type": "code",
   "execution_count": null,
   "id": "7d5c8654",
   "metadata": {},
   "outputs": [],
   "source": [
    "import os\n",
    "os.chdir(\"/zata/zippy/ramirezc/splice-model-benchmark\")\n",
    "\n",
    "import sys\n",
    "splice_transformer_path = os.path.join(f\"{os.getcwd}\", 'reference_files', 'SpliceTransformer')\n",
    "sys.path.append(splice_transformer_path)\n",
    "\n",
    "import pandas as pd\n",
    "import numpy as np\n",
    "from pyfaidx import Fasta\n",
    "import argparse\n",
    "import vcf as pyvcf\n",
    "from pyensembl import Genome\n",
    "import tqdm\n",
    "import os\n",
    "from sptransformer import Annotator\n",
    "import torch"
   ]
  },
  {
   "cell_type": "code",
   "execution_count": null,
   "id": "04c2ed31",
   "metadata": {},
   "outputs": [],
   "source": [
    "annotator = Annotator()\n",
    "gtf = annotator.gtf\n",
    "\n",
    "tis_names = ['Adipose Tissue', 'Blood', 'Blood Vessel', 'Brain', 'Colon', 'Heart', 'Kidney',\n",
    "                'Liver', 'Lung', 'Muscle', 'Nerve', 'Small Intestine', 'Skin', 'Spleen', 'Stomach']\n",
    "\n",
    "input_seq = 'N'*4000 + 'ACGTAGGGCG' + 'N'*4000  # just an example\n",
    "input_seq = annotator.model.one_hot_encode(input_seq)\n",
    "input_seq = torch.tensor(input_seq).to(annotator.model.device)\n",
    "print(input_seq.shape)\n",
    "# the function step() accepts encoded sequence, (Batch, 4, Length),\n",
    "# thus, the input_seq should have shape (1, 4, Length)\n",
    "input_seq = input_seq.unsqueeze(0).float().transpose(1, 2)\n",
    "output = annotator.model.step(input_seq)\n",
    "print(output.shape)"
   ]
  },
  {
   "cell_type": "code",
   "execution_count": null,
   "id": "bb46e4a9",
   "metadata": {},
   "outputs": [],
   "source": [
    "import torch\n",
    "\n",
    "save_path = 'model/weights/SpTransformer_pytorch.ckpt'\n",
    "save_dict = torch.load(save_path, map_location='cpu')\n",
    "\n",
    "new_state_dict = {}\n",
    "for key, value in save_dict[\"state_dict\"].items():\n",
    "    if \"attn.pos_emb.weights_\" in key:\n",
    "        new_key = key.replace(\"attn.pos_emb.weights_\", \"attn.pos_emb.weights.\")\n",
    "        new_state_dict[new_key] = value\n",
    "    else:\n",
    "        new_state_dict[key] = value\n",
    "\n",
    "save_dict[\"state_dict\"] = new_state_dict\n",
    "\n",
    "new_save_path = 'model/weights/SpTransformer_pytorch_fixed.ckpt'\n",
    "torch.save(save_dict, new_save_path)\n",
    "\n",
    "print(f\"Modified checkpoint saved to {new_save_path}\")"
   ]
  },
  {
   "cell_type": "code",
   "execution_count": null,
   "id": "7d0d7a34",
   "metadata": {},
   "outputs": [],
   "source": [
    "import torch\n",
    "from pangolin.model import *\n",
    "import os\n",
    "os.chdir(\"/zata/zippy/ramirezc/splice-model-benchmark\")\n",
    "\n",
    "model_path = \"reference_files/pangolin/models/final.{model_index}.{model_num}.3\"\n",
    "\n",
    "model_nums = [0, 2, 4, 6]\n",
    "models = []\n",
    "for i in model_nums:\n",
    "    for j in range(1, 6):\n",
    "        model = Pangolin(L, W, AR)\n",
    "        model.cuda()\n",
    "        weights = torch.load(model_path.format(model_index=j, model_num=i))\n",
    "        model.load_state_dict(weights)\n",
    "        model.eval()\n",
    "        models.append(model)\n",
    "                \n",
    "print(models)\n"
   ]
  },
  {
   "cell_type": "code",
   "execution_count": null,
   "id": "dafea605",
   "metadata": {},
   "outputs": [],
   "source": [
    "import zarr\n",
    "import os"
   ]
  },
  {
   "cell_type": "code",
   "execution_count": null,
   "id": "3078368e",
   "metadata": {},
   "outputs": [],
   "source": [
    "splice_site_predicitons = zarr.open_group(store=\"/zata/zippy/ramirezc/splice-model-benchmark/results/pangolin_predictions.zarr/splice_site_predictions\", mode=\"r\")\n",
    "splice_site_truth = zarr.open_group(store=\"/zata/zippy/ramirezc/splice-model-benchmark/results/pangolin_predictions.zarr/splice_site_truth\", mode=\"r\")\n",
    "splice_sites = zarr.open_group(store=\"/zata/zippy/ramirezc/splice-model-benchmark/results/pangolin_predictions.zarr/splice_sites\", mode=\"r\")"
   ]
  },
  {
   "cell_type": "code",
   "execution_count": null,
   "id": "7b901af6",
   "metadata": {},
   "outputs": [],
   "source": [
    "print(splice_site_predicitons[\"chr1\"][11963635])\n",
    "print(splice_site_truth[\"chr1\"][11963635])"
   ]
  },
  {
   "cell_type": "code",
   "execution_count": null,
   "id": "76fa56af",
   "metadata": {},
   "outputs": [],
   "source": [
    "print(splice_sites['metadata'][:200])"
   ]
  },
  {
   "cell_type": "code",
   "execution_count": null,
   "id": "0c4a0ec0",
   "metadata": {},
   "outputs": [],
   "source": [
    "from nucleotide_transformer.pretrained import get_pretrained_segment_nt_model\n",
    "import haiku as hk"
   ]
  },
  {
   "cell_type": "code",
   "execution_count": null,
   "id": "1a53c7ea",
   "metadata": {},
   "outputs": [],
   "source": [
    "parameters, forward_fn, tokenizer, config = get_pretrained_segment_nt_model(\n",
    "    model_name=\"segment_nt\",\n",
    "    max_positions=5000 + 1,\n",
    ")\n",
    "forward_fn = hk.transform(forward_fn)\n",
    "donor_idx = config.features.index('splice_donor')\n",
    "acceptor_idx = config.features.index('splice_acceptor')\n",
    "print(config.features)"
   ]
  },
  {
   "cell_type": "code",
   "execution_count": null,
   "id": "c715fa30",
   "metadata": {},
   "outputs": [],
   "source": [
    "import os\n",
    "os.chdir(\"/zata/zippy/ramirezc/splice-model-benchmark\")\n",
    "\n",
    "import polars as pl\n",
    "import numpy as np\n",
    "from models.spliceai import SpliceAIEvaluator\n",
    "from IPython.display import display"
   ]
  },
  {
   "cell_type": "code",
   "execution_count": null,
   "id": "6018b720",
   "metadata": {},
   "outputs": [],
   "source": [
    "print([f\"chr{i}\" for i in range(1, 11, 2)])"
   ]
  },
  {
   "cell_type": "code",
   "execution_count": null,
   "id": "7a087520",
   "metadata": {},
   "outputs": [],
   "source": [
    "evaluator = SpliceAIEvaluator()\n",
    "sorted_df = evaluator._filter_gencode()\n",
    "display(sorted_df)"
   ]
  },
  {
   "cell_type": "code",
   "execution_count": null,
   "id": "ddcb04b5",
   "metadata": {},
   "outputs": [],
   "source": [
    "quant_tsv_1 = pl.read_csv(\"reference_files/transcript_quantifications_rep1.tsv\", separator='\\t')\n",
    "quant_tsv_2 = pl.read_csv(\"reference_files/transcript_quantifications_rep2.tsv\", separator='\\t')\n",
    "joined_tsv = quant_tsv_1.join(quant_tsv_2, on='transcript_ID', how='inner')\n",
    "averaged_counts = joined_tsv.with_columns(\n",
    "    ((pl.col('rep1ENCSR368UNC') + pl.col('rep2ENCSR368UNC')) / 2).alias('transcript_count')\n",
    ")\n",
    "clean_tsv = averaged_counts.select(\"annot_transcript_id\", \"annot_transcript_name\", \"transcript_count\")\n",
    "expressed_transcripts = clean_tsv.filter(pl.col('transcript_count') >= 2.0)['annot_transcript_id'].to_list()\n",
    "\n",
    "gtf = pl.read_parquet(\"reference_files/gencode.v29.primary_assembly.annotation_UCSC_names.gtf.parquet\")\n",
    "filtered_df = gtf.filter(\n",
    "    (pl.col('feature') == 'transcript') &\n",
    "    (pl.col('gene_type') == 'protein_coding') &\n",
    "    (pl.col('seqname').is_in([f\"chr{i}\" for i in range(1, 11, 2)])) &\n",
    "    (pl.col('transcript_id').is_in(expressed_transcripts))\n",
    ")\n",
    "display(filtered_df)"
   ]
  },
  {
   "cell_type": "code",
   "execution_count": null,
   "id": "c02b8794",
   "metadata": {},
   "outputs": [],
   "source": [
    "print(f\"Average length of transcripts: {np.median((filtered_df['end'].to_numpy() - filtered_df['start'].to_numpy()))}\")"
   ]
  },
  {
   "cell_type": "code",
   "execution_count": null,
   "id": "ffa8b708",
   "metadata": {},
   "outputs": [],
   "source": [
    "import polars as pl\n",
    "from IPython.display import display"
   ]
  },
  {
   "cell_type": "code",
   "execution_count": null,
   "id": "af58af8f",
   "metadata": {},
   "outputs": [],
   "source": [
    "vcf = pl.read_csv(\"HG001_GRCh38_1_22_v4.2.1_benchmark.vcf\", separator=\"\\t\", comment_prefix=\"#\", new_columns=[\"CHROM\", \"POS\", \"ID\", \"REF\", \"ALT\", \"QUAL\", \"FILTER\", \"INFO\", \"FORMAT\", \"HG001\"])\n",
    "display(vcf)\n"
   ]
  },
  {
   "cell_type": "code",
   "execution_count": null,
   "id": "dda71e3d",
   "metadata": {},
   "outputs": [],
   "source": [
    "filter_chroms = vcf.filter(pl.col(\"CHROM\").is_in([f\"chr{i}\" for i in range(1, 11, 2)]))\n",
    "display(filter_chroms)\n"
   ]
  },
  {
   "cell_type": "code",
   "execution_count": null,
   "id": "cc1f142a",
   "metadata": {},
   "outputs": [],
   "source": [
    "filtered_gtf = pl.read_parquet(\"filtered_gtf.parquet\")\n",
    "display(filtered_gtf)"
   ]
  },
  {
   "cell_type": "code",
   "execution_count": null,
   "id": "418d0a39",
   "metadata": {},
   "outputs": [],
   "source": [
    "with_start = filtered_gtf.with_columns(\n",
    "    pl.lit('start').alias('pos_type'),\n",
    "    pl.col('start').alias('POS'))\n",
    "with_end = filtered_gtf.with_columns(\n",
    "    pl.lit('end').alias('pos_type'),\n",
    "    pl.col('end').alias('POS')\n",
    ")\n",
    "\n",
    "concatenated = pl.concat([with_start, with_end])\n",
    "dropped = concatenated.drop('start', 'end')\n",
    "to_none = dropped.with_columns(pl.col('POS').replace(\"EXCLUDE\", pl.lit(None)))\n",
    "as_int = to_none.with_columns(pl.col('POS').cast(pl.Int64))\n",
    "rename = as_int.with_columns(pl.col('seqname').cast(pl.String).alias('CHROM')).drop('seqname', 'index')\n",
    "drop_null = rename.drop_nulls(subset=['POS']).with_row_index()\n",
    "\n",
    "display(drop_null)"
   ]
  },
  {
   "cell_type": "code",
   "execution_count": null,
   "id": "2d7b0688",
   "metadata": {},
   "outputs": [],
   "source": [
    "import polars as pl\n",
    "from IPython.display import display\n",
    "import os\n",
    "os.chdir(\"/zata/zippy/ramirezc/splice-model-benchmark\")\n",
    "\n",
    "\n",
    "print(\"Filtering GENCODE GTF...\")\n",
    "quant_tsv_1 = pl.read_csv(\"reference_files/transcript_quantifications_rep1.tsv\", separator='\\t')\n",
    "quant_tsv_2 = pl.read_csv(\"reference_files/transcript_quantifications_rep2.tsv\", separator='\\t')\n",
    "joined_tsv = quant_tsv_1.join(quant_tsv_2, on='transcript_ID', how='inner')\n",
    "averaged_counts = joined_tsv.with_columns(\n",
    "    ((pl.col('rep1ENCSR368UNC') + pl.col('rep2ENCSR368UNC')) / 2).alias('transcript_count')\n",
    ")\n",
    "clean_tsv = averaged_counts.select(\"annot_transcript_id\", \"annot_transcript_name\", \"transcript_count\")\n",
    "expressed_transcripts = clean_tsv.filter(pl.col('transcript_count') >= 2.0)['annot_transcript_id'].to_list()\n",
    "print(f\"Number of expressed transcripts: {len(expressed_transcripts)}\")\n",
    "\n",
    "gtf = pl.read_parquet(\"reference_files/gencode.v29.primary_assembly.annotation_UCSC_names.gtf.parquet\")\n",
    "filtered_df = gtf.filter(\n",
    "    (pl.col('feature') == 'exon') &\n",
    "    (pl.col('gene_type') == 'protein_coding') &\n",
    "    (pl.col('seqname').is_in(['chr1', 'chr3', 'chr5', 'chr7', 'chr9']))\n",
    ")\n",
    "filtered_df = filtered_df.filter(pl.col('transcript_id').is_in(expressed_transcripts))\n",
    "    \n",
    "transcript_counts = (\n",
    "    filtered_df\n",
    "    .select(['seqname', 'transcript_id'])\n",
    "    .unique()\n",
    "    .group_by('seqname')\n",
    "    .len()\n",
    "    .sort('seqname')\n",
    ")\n",
    "print(f\"Number of transcripts per chromsome: {transcript_counts}\")\n",
    "\n",
    "with_start = filtered_df.with_columns(\n",
    "    pl.lit('start').alias('pos_type'),\n",
    "    pl.col('start').alias('pos'))\n",
    "with_end = filtered_df.with_columns(\n",
    "    pl.lit('end').alias('pos_type'),\n",
    "    pl.col('end').alias('pos')\n",
    ")\n",
    "\n",
    "concatenated = pl.concat([with_start, with_end])\n",
    "dropped = concatenated.drop('start', 'end')\n",
    "as_int = dropped.with_columns(pl.col('pos').cast(pl.Int64), pl.col('exon_number').cast(pl.Int64))\n",
    "sorted_df = as_int.sort('seqname', 'transcript_id', 'exon_number', 'pos')\n",
    "\n",
    "grouped = sorted_df.group_by('seqname', 'transcript_id').agg(pl.col('pos'))\n",
    "remove_single_exons = grouped.filter(\n",
    "    pl.col('pos').list.len() > 2\n",
    ")\n",
    "removed_start_and_end = remove_single_exons.with_columns(\n",
    "    pl.col(\"pos\").list.slice(1, pl.col(\"pos\").list.len() - 2)\n",
    "    .alias(\"pos\")\n",
    ")\n",
    "\n",
    "expoloded_df = removed_start_and_end.explode('pos')\n",
    "joined_df = sorted_df.join(expoloded_df, on=['seqname', 'transcript_id', 'pos'], how='inner').drop('index').with_row_index()\n",
    "display(joined_df)\n",
    "\n",
    "# Drop the first and last exon for each seqname (chrom), transcript_id\n",
    "\n",
    "\n",
    "# rename = as_int.with_columns(pl.col('seqname').cast(pl.String)).drop('index', 'score')\n",
    "# drop_null = rename.drop_nulls(subset=['pos']).with_row_index()\n",
    "\n",
    "# sorted_df = drop_null.sort('seqname', 'transcript_id', 'exon_number')\n",
    "# display(sorted_df)"
   ]
  },
  {
   "cell_type": "code",
   "execution_count": null,
   "id": "b8c722b4",
   "metadata": {},
   "outputs": [],
   "source": [
    "display(joined_df.filter(pl.col('transcript_id') == 'ENST00000643639.1'))"
   ]
  },
  {
   "cell_type": "code",
   "execution_count": null,
   "id": "a2536784",
   "metadata": {},
   "outputs": [],
   "source": [
    "display(gtf.filter(pl.col('transcript_id') == 'ENST00000610533.4', pl.col('feature') == 'exon').with_columns(pl.col('exon_number').cast(pl.Int64)).sort('seqname', 'exon_number', 'start'))"
   ]
  },
  {
   "cell_type": "code",
   "execution_count": null,
   "id": "4bc437e6",
   "metadata": {},
   "outputs": [],
   "source": [
    "idx = 5\n",
    "nums = [num for num in range(1, 21)]\n",
    "\n",
    "print(nums[idx:idx+2])\n",
    "print(nums[(idx-2)  +1:idx + 1])\n"
   ]
  },
  {
   "cell_type": "code",
   "execution_count": null,
   "id": "ce8ee583",
   "metadata": {},
   "outputs": [],
   "source": [
    "# TODO: Find splice site predictions where prediction score is < 0.99 but ground truth is 0.\n",
    "\n",
    "import polars as pl\n",
    "from IPython.display import display\n",
    "import os\n",
    "import zarr\n",
    "import xarray as xr\n",
    "import logomaker\n",
    "import matplotlib.pyplot as plt\n",
    "import numpy as np\n",
    "from pyfaidx import Fasta\n",
    "from Bio.Seq import reverse_complement\n",
    "os.chdir(\"/zata/zippy/ramirezc/splice-model-benchmark\")\n",
    "\n",
    "zarr_root = zarr.group(store=zarr.DirectoryStore(\"results/spliceai_predictions.zarr\"))\n",
    "acceptor_predictions = zarr_root.require_group('acceptor_predictions')\n",
    "donor_predictions = zarr_root.require_group('donor_predictions')\n",
    "acceptor_truth = zarr_root.require_group('acceptor_truth')\n",
    "donor_truth = zarr_root.require_group('donor_truth')\n",
    "\n",
    "splice_sites = zarr_root.require_group('splice_sites')\n",
    "metadata = splice_sites['metadata'][:]\n",
    "\n",
    "fasta = Fasta(\"reference_files/GM12878.fasta\")\n",
    "chroms = ['chr1', 'chr3', 'chr5', 'chr7', 'chr9']\n",
    "\n",
    "schema = {\n",
    "    'seqname': pl.Utf8,     # For chromosome names\n",
    "    'start': pl.Int64,      # For genomic coordinates\n",
    "    'end': pl.Int64,        # For genomic coordinates\n",
    "    'score': pl.Float64,    # Prediction score from SpliceAI\n",
    "    'strand': pl.Utf8,      # For '+' or '-'\n",
    "    'sequence': pl.List(pl.Utf8),    # Consensus di-nucleotide sequence\n",
    "    'type': pl.Utf8,            # For 'acceptor' or 'donor'\n",
    "}\n",
    "splice_sites_dict = {col: [] for col in schema.keys()}\n",
    "\n",
    "# For future reference:\n",
    "# 1 is ADDED to the start and end to convert from zarr coords to GTF coords\n",
    "# For positive-strand acceptors and negative-strand donors, you subtract 2 from the start and  1 from end\n",
    "# which is the GTF coords for the two positions preceding the exon region.\n",
    "# For negative-strand acceptors and positive-strand donors, you add 1 to the start and 2 to the end\n",
    "# which is the GTF coords for the two positions following the exon region.\n",
    "# For extracting the sequence, we don't need to add 1 since the site['index'] is already the zarr coords.\n",
    "# The other differences in indexing is due to python index inclusivity (~last_idx).\n",
    "for site in metadata:\n",
    "    if site['strand'] == '+':\n",
    "        if site['type'] == 'acceptor':\n",
    "            splice_sites_dict['seqname'].append(site['chrom'])\n",
    "            splice_sites_dict['start'].append(site['index'] + 1 - 2) # Convert back to GTF coords\n",
    "            splice_sites_dict['end'].append(site['index'] + 1 - 1) # Convert back to GTF coords\n",
    "            splice_sites_dict['score'].append(acceptor_predictions[site['chrom']][site['index']])\n",
    "            splice_sites_dict['strand'].append(site['strand'])\n",
    "            splice_sites_dict['sequence'].append(list(fasta[site['chrom']][site['index'] - 2:site['index']].seq))\n",
    "            splice_sites_dict['type'].append(site['type'])\n",
    "        else:\n",
    "            splice_sites_dict['seqname'].append(site['chrom'])\n",
    "            splice_sites_dict['start'].append(site['index'] + 1 + 1)\n",
    "            splice_sites_dict['end'].append((site['index'] + 1 + 2))\n",
    "            splice_sites_dict['score'].append(donor_predictions[site['chrom']][site['index']])\n",
    "            splice_sites_dict['strand'].append(site['strand'])\n",
    "            splice_sites_dict['sequence'].append(list(fasta[site['chrom']][site['index'] + 1:site['index'] + 1 + 2].seq)) # Why + 1? Because python last index is not included\n",
    "            splice_sites_dict['type'].append(site['type'])\n",
    "    else:\n",
    "        if site['type'] == 'acceptor':\n",
    "            splice_sites_dict['seqname'].append(site['chrom'])\n",
    "            splice_sites_dict['start'].append(site['index'] + 1 + 1)\n",
    "            splice_sites_dict['end'].append((site['index'] + 1 + 2))\n",
    "            splice_sites_dict['score'].append(acceptor_predictions[site['chrom']][site['index']])\n",
    "            splice_sites_dict['strand'].append(site['strand'])\n",
    "            splice_sites_dict['sequence'].append(list(reverse_complement(fasta[site['chrom']][site['index'] + 1:site['index'] + 1 + 2].seq)))\n",
    "            splice_sites_dict['type'].append(site['type'])\n",
    "        else:\n",
    "            splice_sites_dict['seqname'].append(site['chrom'])\n",
    "            splice_sites_dict['start'].append(site['index'] + 1 - 2) # Convert back to GTF coords\n",
    "            splice_sites_dict['end'].append(site['index'] + 1 - 1) # Convert back to GTF coords'\n",
    "            splice_sites_dict['score'].append(donor_predictions[site['chrom']][site['index']])\n",
    "            splice_sites_dict['strand'].append(site['strand'])\n",
    "            splice_sites_dict['sequence'].append(list(reverse_complement(fasta[site['chrom']][site['index'] - 2:site['index']].seq)))\n",
    "            splice_sites_dict['type'].append(site['type'])\n",
    "            \n",
    "splice_sites_df = pl.from_dict(splice_sites_dict, schema=schema)\n",
    "splice_sites_df.write_parquet(\"splice_sites.parquet\")\n",
    "for_tsv = splice_sites_df.with_columns(pl.col('sequence').list.join('').alias('sequence'))\n",
    "for_tsv.write_csv(\"splice_sites.tsv\", separator='\\t')\n",
    "\n",
    "def create_logo(ax, pwm_df, title):\n",
    "    motif_logo = logomaker.Logo(pwm_df,\n",
    "                               shade_below=.5,\n",
    "                               fade_below=.5,\n",
    "                               ax=ax)\n",
    "    \n",
    "    motif_logo.style_spines(visible=False)\n",
    "    motif_logo.style_spines(spines=['left', 'bottom'], visible=True)\n",
    "    motif_logo.style_xticks(rotation=90, fmt='%d', anchor=0)\n",
    "    \n",
    "    motif_logo.ax.set_ylabel(\"probability\", labelpad=-1)\n",
    "    motif_logo.ax.xaxis.set_ticks_position('none')\n",
    "    motif_logo.ax.xaxis.set_tick_params(pad=-1)\n",
    "    motif_logo.ax.set_title(title)\n",
    "    \n",
    "    return motif_logo\n",
    "\n",
    "site_types = ['acceptor', 'donor']\n",
    "fig, axes = plt.subplots(len(chroms), len(site_types), figsize=(len(site_types)*4, len(chroms)*3))\n",
    "\n",
    "nucleotides = ['A', 'C', 'G', 'T']\n",
    "positions = list(range(2))\n",
    "for i, chrom in enumerate(chroms):\n",
    "    for j, site_type in enumerate(site_types):\n",
    "        sequences = splice_sites_df.filter(pl.col('seqname') == chrom, pl.col('type') == site_type).get_column('sequence').to_list()\n",
    "        count_array = xr.DataArray(\n",
    "            np.zeros((len(positions), len(nucleotides))),\n",
    "            dims=[\"pos\", \"nucleotide\"],\n",
    "            coords={\"pos\": positions, \"nucleotide\": nucleotides}\n",
    "        )\n",
    "        for seq in sequences:\n",
    "            for pos in range(len(seq)):\n",
    "                nt = seq[pos]\n",
    "                count_array.loc[pos, nt] += 1\n",
    "\n",
    "        prob_array = count_array / count_array.sum(dim=\"nucleotide\")\n",
    "        logo_df = prob_array.to_pandas()\n",
    "        \n",
    "        title = f\"{chrom} - {site_type}\"\n",
    "        create_logo(axes[i, j], logo_df, title)\n",
    "        \n",
    "plt.tight_layout()\n",
    "plt.savefig(\"motif_grid.svg\", format='svg', dpi=300)\n",
    "plt.show()"
   ]
  },
  {
   "cell_type": "code",
   "execution_count": null,
   "id": "34b484ab",
   "metadata": {},
   "outputs": [
    {
     "data": {
      "image/png": "[encoded data removed]",
      "text/plain": [
       "<Figure size 3000x1800 with 1 Axes>"
      ]
     },
     "metadata": {},
     "output_type": "display_data"
    },
    {
     "data": {
      "image/png": "[encoded data removed]",
      "text/plain": [
       "<Figure size 640x480 with 1 Axes>"
      ]
     },
     "metadata": {},
     "output_type": "display_data"
    }
   ],
   "source": [
    "import polars as pl\n",
    "import numpy as np\n",
    "import matplotlib.pyplot as plt\n",
    "from matplotlib.animation import FuncAnimation\n",
    "import os \n",
    "os.chdir(\"/zata/zippy/ramirezc/splice-model-benchmark\")\n",
    "np.random.seed(42)\n",
    "\n",
    "splice_sites_df = pl.read_parquet(\"splice_sites.parquet\")\n",
    "splice_sites_clean = splice_sites_df.with_columns(pl.col('sequence').list.join('').alias('sequence'))\n",
    "\n",
    "# splice_sites_clean = splice_sites_clean.filter(pl.col('sequence') != 'GT', pl.col('sequence') != 'AG')\n",
    "total_counts = splice_sites_clean['sequence'].value_counts().sort(\"count\", descending=True).head(20)\n",
    "sequence_list = total_counts[\"sequence\"].to_list()\n",
    "counts_list = total_counts[\"count\"].to_list()\n",
    "\n",
    "x_pos = np.arange(len(sequence_list))\n",
    "\n",
    "thresholds = np.linspace(0.01, 0.99, 99)\n",
    "fig, ax = plt.subplots(figsize=(10, 6), dpi=300)\n",
    "\n",
    "def update(frame):\n",
    "    threshold = thresholds[frame]\n",
    "    \n",
    "    above = splice_sites_clean.filter(pl.col(\"score\") >= threshold)\n",
    "    above_counts = above['sequence'].value_counts()\n",
    "    \n",
    "    above_vals = np.zeros(len(sequence_list))\n",
    "    below_vals = np.zeros(len(sequence_list))\n",
    "    \n",
    "    for i, seq in enumerate(sequence_list):\n",
    "        total = counts_list[i]\n",
    "        \n",
    "        above_match = above_counts.filter(pl.col(\"sequence\") == seq)\n",
    "        if above_match.height > 0:\n",
    "            above_vals[i] = above_match[\"count\"][0]\n",
    "            below_vals[i] = total - above_vals[i]\n",
    "        else:\n",
    "            below_vals[i] = total\n",
    "    \n",
    "    ax.clear()\n",
    "    \n",
    "    ax.bar(x_pos, below_vals, color='skyblue', label='Below Threshold')\n",
    "    ax.bar(x_pos, above_vals, bottom=below_vals, color='red', label='Above Threshold')\n",
    "    \n",
    "    plt.tick_params(bottom=False)\n",
    "    \n",
    "    ax.set_xticks(x_pos)\n",
    "    ax.set_xticklabels(sequence_list, rotation=45)\n",
    "    ax.set_xlabel('Sequence')\n",
    "    ax.set_ylabel('Count')\n",
    "    ax.spines['top'].set_visible(False)\n",
    "    ax.spines['right'].set_visible(False)\n",
    "    \n",
    "    pct_above = 100 * len(above) / len(splice_sites_clean)\n",
    "    \n",
    "    ax.set_title(f'SpliceAI Prediction Threshold: {threshold:.2f}\\n{pct_above:.1f}% of sites threshold')\n",
    "    ax.legend()\n",
    "    \n",
    "    plt.tight_layout()\n",
    "    \n",
    "anim = FuncAnimation(fig, update, frames=len(thresholds), blit=False, interval=300)\n",
    "anim.save('sequence_threshold_consensus.gif', writer='pillow', fps=3)"
   ]
  },
  {
   "cell_type": "code",
   "execution_count": null,
   "id": "e1c086f8",
   "metadata": {},
   "outputs": [],
   "source": []
  }
 ],
 "metadata": {
  "kernelspec": {
   "display_name": ".venv",
   "language": "python",
   "name": "python3"
  },
  "language_info": {
   "codemirror_mode": {
    "name": "ipython",
    "version": 3
   },
   "file_extension": ".py",
   "mimetype": "text/x-python",
   "name": "python",
   "nbconvert_exporter": "python",
   "pygments_lexer": "ipython3",
   "version": "3.10.12"
  }
 },
 "nbformat": 4,
 "nbformat_minor": 5
}
