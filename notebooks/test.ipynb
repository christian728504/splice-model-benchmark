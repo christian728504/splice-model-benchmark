{
 "cells": [
  {
   "cell_type": "code",
   "execution_count": null,
   "id": "cc4748da",
   "metadata": {},
   "outputs": [],
   "source": [
    "import subprocess\n",
    "import os\n",
    "\n",
    "\n",
    "def make_fasta(output_dir = \"results\"):\n",
    "    os.makedirs(output_dir, exist_ok=True)\n",
    "    os.chdir(output_dir)\n",
    "\n",
    "    download_variants = \"wget https://ftp-trace.ncbi.nlm.nih.gov/ReferenceSamples/giab/release/NA12878_HG001/latest/GRCh38/HG001_GRCh38_1_22_v4.2.1_benchmark.vcf.gz\"\n",
    "    download_reference_genome = \"wget https://ftp-trace.ncbi.nlm.nih.gov/ReferenceSamples/giab/release/references/GRCh38/GCA_000001405.15_GRCh38_no_alt_analysis_set.fasta.gz && gunzip GCA_000001405.15_GRCh38_no_alt_analysis_set.fasta\"\n",
    "    get_biallelic_variants = \"bcftools view -v snps -m2 -M2 HG001_GRCh38_1_22_v4.2.1_benchmark.vcf.gz -Oz -o GM12878_SNPs_biallelic.vcf.gz\"\n",
    "    get_index = \"bcftools index GM12878_SNPs_biallelic.vcf.gz\"\n",
    "    get_consensus = \"bcftools consensus -f GCA_000001405.15_GRCh38_no_alt_analysis_set.fasta -H 1 GM12878_SNPs_biallelic.vcf.gz > GM12878.fasta\"\n",
    "\n",
    "    subprocess.run(download_variants, shell=True)\n",
    "    subprocess.run(download_reference_genome, shell=True)\n",
    "    subprocess.run(get_biallelic_variants, shell=True)\n",
    "    subprocess.run(get_index, shell=True)\n",
    "    subprocess.run(get_consensus, shell=True)\n",
    "\n",
    "    os.remove(path=\"HG001_GRCh38_1_22_v4.2.1_benchmark.vcf.gz\")\n",
    "    os.remove(path=\"GCA_000001405.15_GRCh38_no_alt_analysis_set.fasta\")\n",
    "    os.remove(path=\"GM12878_SNPs_biallelic.vcf.gz\")\n",
    "    os.remove(path=\"GM12878_SNPs_biallelic.vcf.gz.csi\")\n",
    "    \n",
    "    print(f\"Done! Fasta file saved to {output_dir}/GM12878.fasta\")"
   ]
  },
  {
   "cell_type": "code",
   "execution_count": null,
   "id": "7e7ae2f8",
   "metadata": {},
   "outputs": [],
   "source": [
    "make_fasta()"
   ]
  },
  {
   "cell_type": "code",
   "execution_count": null,
   "id": "b76f47dc",
   "metadata": {},
   "outputs": [],
   "source": [
    "from gtfparse import read_gtf\n",
    "import polars as pl\n",
    "from IPython.display import display"
   ]
  },
  {
   "cell_type": "code",
   "execution_count": null,
   "id": "f474385e",
   "metadata": {},
   "outputs": [],
   "source": [
    "df = read_gtf(\"/data/common/genome/gencode.v47.basic.annotation.gtf\")\n",
    "filtered_df = df.filter(\n",
    "    (pl.col('feature') == 'exon') &\n",
    "    (pl.col('gene_type') == 'protein_coding') &\n",
    "    (pl.col('seqname').is_in(['chr9']))\n",
    ")\n",
    "as_string = filtered_df.with_columns(pl.col('start').cast(pl.Utf8), pl.col('end').cast(pl.Utf8))\n",
    "as_num = as_string.with_columns(pl.col('exon_number').cast(pl.Int64))\n",
    "indexed_df = as_num.with_row_index()\n",
    "\n",
    "display(indexed_df)"
   ]
  },
  {
   "cell_type": "code",
   "execution_count": null,
   "id": "e267ed10",
   "metadata": {},
   "outputs": [],
   "source": [
    "# Get lists of first and last indices\n",
    "first_indices = []\n",
    "last_indices = []\n",
    "\n",
    "for _, group in indexed_df.group_by('transcript_id'):\n",
    "    sorted_group = group.sort('exon_number')\n",
    "    first_indices.append(sorted_group.row(0, named=True)['index'])\n",
    "    last_indices.append(sorted_group.row(-1, named=True)['index'])\n",
    "\n",
    "# Create update expressions\n",
    "placeholder_df = indexed_df.with_columns([\n",
    "    pl.when(pl.col(\"index\").is_in(first_indices))\n",
    "    .then(pl.lit(\"START\"))\n",
    "    .otherwise(pl.col(\"start\"))\n",
    "    .alias(\"start\"),\n",
    "    \n",
    "    pl.when(pl.col(\"index\").is_in(last_indices))\n",
    "    .then(pl.lit(\"END\"))\n",
    "    .otherwise(pl.col(\"end\"))\n",
    "    .alias(\"end\")\n",
    "])\n",
    "\n",
    "sorted_df = placeholder_df.sort('seqname', 'transcript_id', 'exon_number')\n",
    "\n",
    "display(sorted_df)"
   ]
  },
  {
   "cell_type": "code",
   "execution_count": null,
   "id": "ffd2dca9",
   "metadata": {},
   "outputs": [],
   "source": [
    "import polars as pl\n",
    "from IPython.display import display"
   ]
  },
  {
   "cell_type": "code",
   "execution_count": null,
   "id": "a47cbd6c",
   "metadata": {},
   "outputs": [],
   "source": [
    "quant_tsv_1 = pl.read_csv(\"../ENCFF189XTO.tsv\", separator='\\t')\n",
    "quant_tsv_2 = pl.read_csv(\"../ENCFF971DVB.tsv\", separator='\\t')\n",
    "display(quant_tsv_1)\n",
    "display(quant_tsv_2)\n"
   ]
  },
  {
   "cell_type": "code",
   "execution_count": null,
   "id": "57ddeacb",
   "metadata": {},
   "outputs": [],
   "source": [
    "joined_tsv = quant_tsv_1.join(quant_tsv_2, on='transcript_ID', how='inner')\n",
    "display(joined_tsv)\n",
    "\n",
    "averaged_counts = joined_tsv.with_columns(\n",
    "    ((pl.col('rep1ENCSR368UNC') + pl.col('rep2ENCSR368UNC')) / 2).alias('transcript_count')\n",
    ")\n",
    "clean_tsv = averaged_counts.select(\"annot_transcript_id\", \"annot_transcript_name\", \"transcript_count\")"
   ]
  },
  {
   "cell_type": "code",
   "execution_count": null,
   "id": "30b3683e",
   "metadata": {},
   "outputs": [],
   "source": [
    "import polars as pl \n",
    "from gtfparse import read_gtf"
   ]
  },
  {
   "cell_type": "code",
   "execution_count": null,
   "id": "f2ce26ea",
   "metadata": {},
   "outputs": [],
   "source": [
    "gtf_file = read_gtf(\"/data/common/genome/gencode.v44.basic.annotation.gtf\")\n",
    "gtf_file.write_parquet(\"../reference_files/gencode.v44.basic.annotation.gtf.parquet\")"
   ]
  },
  {
   "cell_type": "code",
   "execution_count": null,
   "id": "7090ea1c",
   "metadata": {},
   "outputs": [],
   "source": []
  },
  {
   "cell_type": "code",
   "execution_count": null,
   "id": "7d5c8654",
   "metadata": {},
   "outputs": [],
   "source": [
    "import os\n",
    "os.chdir(\"/zata/zippy/ramirezc/splice-model-benchmark\")\n",
    "\n",
    "import sys\n",
    "splice_transformer_path = os.path.join(f\"{os.getcwd}\", 'reference_files', 'SpliceTransformer')\n",
    "sys.path.append(splice_transformer_path)\n",
    "\n",
    "import pandas as pd\n",
    "import numpy as np\n",
    "from pyfaidx import Fasta\n",
    "import argparse\n",
    "import vcf as pyvcf\n",
    "from pyensembl import Genome\n",
    "import tqdm\n",
    "import os\n",
    "from sptransformer import Annotator\n",
    "import torch"
   ]
  },
  {
   "cell_type": "code",
   "execution_count": null,
   "id": "04c2ed31",
   "metadata": {},
   "outputs": [],
   "source": [
    "annotator = Annotator()\n",
    "gtf = annotator.gtf\n",
    "\n",
    "tis_names = ['Adipose Tissue', 'Blood', 'Blood Vessel', 'Brain', 'Colon', 'Heart', 'Kidney',\n",
    "                'Liver', 'Lung', 'Muscle', 'Nerve', 'Small Intestine', 'Skin', 'Spleen', 'Stomach']\n",
    "\n",
    "input_seq = 'N'*4000 + 'ACGTAGGGCG' + 'N'*4000  # just an example\n",
    "input_seq = annotator.model.one_hot_encode(input_seq)\n",
    "input_seq = torch.tensor(input_seq).to(annotator.model.device)\n",
    "print(input_seq.shape)\n",
    "# the function step() accepts encoded sequence, (Batch, 4, Length),\n",
    "# thus, the input_seq should have shape (1, 4, Length)\n",
    "input_seq = input_seq.unsqueeze(0).float().transpose(1, 2)\n",
    "output = annotator.model.step(input_seq)\n",
    "print(output.shape)"
   ]
  },
  {
   "cell_type": "code",
   "execution_count": null,
   "id": "bb46e4a9",
   "metadata": {},
   "outputs": [],
   "source": [
    "import torch\n",
    "\n",
    "save_path = 'model/weights/SpTransformer_pytorch.ckpt'\n",
    "save_dict = torch.load(save_path, map_location='cpu')\n",
    "\n",
    "new_state_dict = {}\n",
    "for key, value in save_dict[\"state_dict\"].items():\n",
    "    if \"attn.pos_emb.weights_\" in key:\n",
    "        new_key = key.replace(\"attn.pos_emb.weights_\", \"attn.pos_emb.weights.\")\n",
    "        new_state_dict[new_key] = value\n",
    "    else:\n",
    "        new_state_dict[key] = value\n",
    "\n",
    "save_dict[\"state_dict\"] = new_state_dict\n",
    "\n",
    "new_save_path = 'model/weights/SpTransformer_pytorch_fixed.ckpt'\n",
    "torch.save(save_dict, new_save_path)\n",
    "\n",
    "print(f\"Modified checkpoint saved to {new_save_path}\")"
   ]
  },
  {
   "cell_type": "code",
   "execution_count": null,
   "id": "7d0d7a34",
   "metadata": {},
   "outputs": [],
   "source": [
    "import torch\n",
    "from pangolin.model import *\n",
    "import os\n",
    "os.chdir(\"/zata/zippy/ramirezc/splice-model-benchmark\")\n",
    "\n",
    "model_path = \"reference_files/pangolin/models/final.{model_index}.{model_num}.3\"\n",
    "\n",
    "model_nums = [0, 2, 4, 6]\n",
    "models = []\n",
    "for i in model_nums:\n",
    "    for j in range(1, 6):\n",
    "        model = Pangolin(L, W, AR)\n",
    "        model.cuda()\n",
    "        weights = torch.load(model_path.format(model_index=j, model_num=i))\n",
    "        model.load_state_dict(weights)\n",
    "        model.eval()\n",
    "        models.append(model)\n",
    "                \n",
    "print(models)\n"
   ]
  },
  {
   "cell_type": "code",
   "execution_count": 1,
   "id": "dafea605",
   "metadata": {},
   "outputs": [],
   "source": [
    "import zarr\n",
    "import os"
   ]
  },
  {
   "cell_type": "code",
   "execution_count": 24,
   "id": "3078368e",
   "metadata": {},
   "outputs": [],
   "source": [
    "splice_site_predicitons = zarr.open_group(store=\"/zata/zippy/ramirezc/splice-model-benchmark/results/pangolin_predictions.zarr/splice_site_predictions\", mode=\"r\")\n",
    "splice_site_truth = zarr.open_group(store=\"/zata/zippy/ramirezc/splice-model-benchmark/results/pangolin_predictions.zarr/splice_site_truth\", mode=\"r\")\n",
    "splice_sites = zarr.open_group(store=\"/zata/zippy/ramirezc/splice-model-benchmark/results/pangolin_predictions.zarr/splice_sites\", mode=\"r\")"
   ]
  },
  {
   "cell_type": "code",
   "execution_count": 31,
   "id": "7b901af6",
   "metadata": {},
   "outputs": [
    {
     "name": "stdout",
     "output_type": "stream",
     "text": [
      "0.9036884307861328\n",
      "1\n"
     ]
    }
   ],
   "source": [
    "print(splice_site_predicitons[\"chr1\"][11963635])\n",
    "print(splice_site_truth[\"chr1\"][11963635])"
   ]
  },
  {
   "cell_type": "code",
   "execution_count": 14,
   "id": "76fa56af",
   "metadata": {},
   "outputs": [
    {
     "name": "stdout",
     "output_type": "stream",
     "text": [
      "[('chr1',  53945928, '-') ('chr1',  53939984, '-')\n",
      " ('chr1',  53940096, '-') ('chr1',  53930038, '-')\n",
      " ('chr1',  53930144, '-') ('chr1',  53928371, '-')\n",
      " ('chr1',  53928439, '-') ('chr1',  53923903, '-')\n",
      " ('chr1',  53923946, '-') ('chr1',  53921560, '-')\n",
      " ('chr1',  11934854, '+') ('chr1',  11947975, '+')\n",
      " ('chr1',  11948066, '+') ('chr1',  11949772, '+')\n",
      " ('chr1',  11949905, '+') ('chr1',  11950356, '+')\n",
      " ('chr1',  11950519, '+') ('chr1',  11952622, '+')\n",
      " ('chr1',  11952734, '+') ('chr1',  11954829, '+')\n",
      " ('chr1',  11954892, '+') ('chr1',  11956916, '+')\n",
      " ('chr1',  11957013, '+') ('chr1',  11957841, '+')\n",
      " ('chr1',  11957942, '+') ('chr1',  11958515, '+')\n",
      " ('chr1',  11958646, '+') ('chr1',  11960645, '+')\n",
      " ('chr1',  11960766, '+') ('chr1',  11963531, '+')\n",
      " ('chr1',  11963635, '+') ('chr1',  11964174, '+')\n",
      " ('chr1',  11964299, '+') ('chr1',  11964643, '+')\n",
      " ('chr1',  11964784, '+') ('chr1',  11965479, '+')\n",
      " ('chr1',  11965592, '+') ('chr1',  11966250, '+')\n",
      " ('chr1',  11966315, '+') ('chr1',  11966986, '+')\n",
      " ('chr1',  11967090, '+') ('chr1',  11970669, '+')\n",
      " ('chr1',  11970815, '+') ('chr1',  11972871, '+')\n",
      " ('chr1',  11972996, '+') ('chr1',  11974652, '+')\n",
      " ('chr1',   8878685, '-') ('chr1',   8874823, '-')\n",
      " ('chr1',   8874916, '-') ('chr1',   8871890, '-')\n",
      " ('chr1',   8871985, '-') ('chr1',   8870451, '-')\n",
      " ('chr1',   8870509, '-') ('chr1',   8867987, '-')\n",
      " ('chr1',   8868056, '-') ('chr1',   8867116, '-')\n",
      " ('chr1',   8867249, '-') ('chr1',   8866278, '-')\n",
      " ('chr1',   8866500, '-') ('chr1',   8865284, '-')\n",
      " ('chr1',   8865481, '-') ('chr1',   8863890, '-')\n",
      " ('chr1',   8864091, '-') ('chr1',   8863234, '-')\n",
      " ('chr1',   8863342, '-') ('chr1',   8862886, '-')\n",
      " ('chr1',   8862944, '-') ('chr1',   8860999, '-')\n",
      " ('chr1', 109214127, '+') ('chr1', 109223977, '+')\n",
      " ('chr1', 109224047, '+') ('chr1', 109228351, '+')\n",
      " ('chr1', 109228431, '+') ('chr1', 109229413, '+')\n",
      " ('chr1', 109229571, '+') ('chr1', 109230877, '+')\n",
      " ('chr1', 109231020, '+') ('chr1', 109231630, '+')\n",
      " ('chr1', 109231785, '+') ('chr1', 109235209, '+')\n",
      " ('chr1', 109235430, '+') ('chr1', 109235976, '+')\n",
      " ('chr1', 109236105, '+') ('chr1', 109236390, '+')\n",
      " ('chr1', 109236547, '+') ('chr1', 109237243, '+')\n",
      " ('chr1', 109237372, '+') ('chr1', 109237730, '+')\n",
      " ('chr1',  54053437, '-') ('chr1',  54047266, '-')\n",
      " ('chr1',  54047371, '-') ('chr1',  54045691, '-')\n",
      " ('chr1',  54045785, '-') ('chr1',  54043372, '-')\n",
      " ('chr1',  54043524, '-') ('chr1',  54041723, '-')\n",
      " ('chr1',  54041804, '-') ('chr1',  54040755, '-')\n",
      " ('chr1',  54040836, '-') ('chr1',  54036609, '-')\n",
      " ('chr1',  54036717, '-') ('chr1',  54026680, '-')\n",
      " ('chr1',   6199611, '-') ('chr1',   6197651, '-')\n",
      " ('chr1',   6197755, '-') ('chr1',   6192929, '-')\n",
      " ('chr1',   6193053, '-') ('chr1',   6185019, '-')\n",
      " ('chr1', 111449375, '-') ('chr1', 111448618, '-')\n",
      " ('chr1', 111448803, '-') ('chr1', 111447434, '-')\n",
      " ('chr1', 111447575, '-') ('chr1', 111447094, '-')\n",
      " ('chr1', 111447143, '-') ('chr1', 111444053, '-')\n",
      " ('chr1', 111444123, '-') ('chr1', 111443866, '-')\n",
      " ('chr1', 111443920, '-') ('chr1', 111443322, '-')\n",
      " ('chr1', 111443393, '-') ('chr1', 111442652, '-')\n",
      " ('chr1', 111442760, '-') ('chr1', 111442024, '-')\n",
      " ('chr1', 111442092, '-') ('chr1', 111439889, '-')\n",
      " ('chr1',  12019551, '+') ('chr1',  12021644, '+')\n",
      " ('chr1',  12021839, '+') ('chr1',  12022094, '+')\n",
      " ('chr1',  12022441, '+') ('chr1',  12022832, '+')\n",
      " ('chr1',  12022916, '+') ('chr1',  12029032, '+')\n",
      " ('chr1',  12029140, '+') ('chr1',  12029222, '+')\n",
      " ('chr1',  12029280, '+') ('chr1',  12029764, '+')\n",
      " ('chr1',  12029893, '+') ('chr1',  12030027, '+')\n",
      " ('chr1',  12030123, '+') ('chr1',  12031265, '+')\n",
      " ('chr1',  12031402, '+') ('chr1',  12031721, '+')\n",
      " ('chr1',  19312145, '-') ('chr1',  19308454, '-')\n",
      " ('chr1',  19308641, '-') ('chr1',  19308157, '-')\n",
      " ('chr1',  19308261, '-') ('chr1',  19307313, '-')\n",
      " ('chr1',  19307409, '-') ('chr1',  19307001, '-')\n",
      " ('chr1',  19307100, '-') ('chr1',  19306017, '-')\n",
      " ('chr1',  19306146, '-') ('chr1',  19303964, '-')\n",
      " ('chr1',  43172259, '-') ('chr1',  43171885, '-')\n",
      " ('chr1',  43171968, '-') ('chr1',  43171478, '-')\n",
      " ('chr1',  43171650, '-') ('chr1',  43170755, '-')\n",
      " ('chr1',  43170878, '-') ('chr1',  43168938, '-')\n",
      " ('chr1',  43169027, '-') ('chr1',  43167159, '-')\n",
      " ('chr1',  43167234, '-') ('chr1',  43166825, '-')\n",
      " ('chr1',  43166918, '-') ('chr1',  43164642, '-')\n",
      " ('chr1',  43164804, '-') ('chr1',  43164183, '-')\n",
      " ('chr1', 169711697, '-') ('chr1', 169710435, '-')\n",
      " ('chr1', 169710516, '-') ('chr1', 169708416, '-')\n",
      " ('chr1', 169708802, '-') ('chr1', 169707341, '-')\n",
      " ('chr1', 169707448, '-') ('chr1', 169704567, '-')\n",
      " ('chr1', 169704752, '-') ('chr1', 169703254, '-')\n",
      " ('chr1', 169703439, '-') ('chr1', 169701559, '-')\n",
      " ('chr1', 169701687, '-') ('chr1', 169696534, '-')\n",
      " ('chr1', 169696552, '-') ('chr1', 169690666, '-')\n",
      " ('chr1',  25232492, '-') ('chr1',  25232103, '-')\n",
      " ('chr1',  25232210, '-') ('chr1',  25228997, '-')\n",
      " ('chr1',  25229122, '-') ('chr1',  25228117, '-')\n",
      " ('chr1',  25228234, '-') ('chr1',  25227441, '-')\n",
      " ('chr1',  25227531, '-') ('chr1',  25225001, '-')\n",
      " ('chr1',  25225099, '-') ('chr1',  25222678, '-')]\n"
     ]
    }
   ],
   "source": [
    "print(splice_sites['metadata'][:200])"
   ]
  },
  {
   "cell_type": "code",
   "execution_count": null,
   "id": "0c4a0ec0",
   "metadata": {},
   "outputs": [],
   "source": []
  }
 ],
 "metadata": {
  "kernelspec": {
   "display_name": ".venv",
   "language": "python",
   "name": "python3"
  },
  "language_info": {
   "codemirror_mode": {
    "name": "ipython",
    "version": 3
   },
   "file_extension": ".py",
   "mimetype": "text/x-python",
   "name": "python",
   "nbconvert_exporter": "python",
   "pygments_lexer": "ipython3",
   "version": "3.10.12"
  }
 },
 "nbformat": 4,
 "nbformat_minor": 5
}
