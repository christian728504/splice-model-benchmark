{
 "cells": [
  {
   "cell_type": "code",
   "execution_count": null,
   "id": "cc4748da",
   "metadata": {},
   "outputs": [],
   "source": [
    "import subprocess\n",
    "import os\n",
    "\n",
    "\n",
    "def make_fasta(output_dir = \"results\"):\n",
    "    os.makedirs(output_dir, exist_ok=True)\n",
    "    os.chdir(output_dir)\n",
    "\n",
    "    download_variants = \"wget https://ftp-trace.ncbi.nlm.nih.gov/ReferenceSamples/giab/release/NA12878_HG001/latest/GRCh38/HG001_GRCh38_1_22_v4.2.1_benchmark.vcf.gz\"\n",
    "    download_reference_genome = \"wget https://ftp-trace.ncbi.nlm.nih.gov/ReferenceSamples/giab/release/references/GRCh38/GCA_000001405.15_GRCh38_no_alt_analysis_set.fasta.gz && gunzip GCA_000001405.15_GRCh38_no_alt_analysis_set.fasta\"\n",
    "    get_biallelic_variants = \"bcftools view -v snps -m2 -M2 HG001_GRCh38_1_22_v4.2.1_benchmark.vcf.gz -Oz -o GM12878_SNPs_biallelic.vcf.gz\"\n",
    "    get_index = \"bcftools index GM12878_SNPs_biallelic.vcf.gz\"\n",
    "    get_consensus = \"bcftools consensus -f GCA_000001405.15_GRCh38_no_alt_analysis_set.fasta -H 1 GM12878_SNPs_biallelic.vcf.gz > GM12878.fasta\"\n",
    "\n",
    "    subprocess.run(download_variants, shell=True)\n",
    "    subprocess.run(download_reference_genome, shell=True)\n",
    "    subprocess.run(get_biallelic_variants, shell=True)\n",
    "    subprocess.run(get_index, shell=True)\n",
    "    subprocess.run(get_consensus, shell=True)\n",
    "\n",
    "    os.remove(path=\"HG001_GRCh38_1_22_v4.2.1_benchmark.vcf.gz\")\n",
    "    os.remove(path=\"GCA_000001405.15_GRCh38_no_alt_analysis_set.fasta\")\n",
    "    os.remove(path=\"GM12878_SNPs_biallelic.vcf.gz\")\n",
    "    os.remove(path=\"GM12878_SNPs_biallelic.vcf.gz.csi\")\n",
    "    \n",
    "    print(f\"Done! Fasta file saved to {output_dir}/GM12878.fasta\")"
   ]
  },
  {
   "cell_type": "code",
   "execution_count": null,
   "id": "7e7ae2f8",
   "metadata": {},
   "outputs": [],
   "source": [
    "make_fasta()"
   ]
  },
  {
   "cell_type": "code",
   "execution_count": null,
   "id": "b76f47dc",
   "metadata": {},
   "outputs": [],
   "source": [
    "from gtfparse import read_gtf\n",
    "import polars as pl\n",
    "from IPython.display import display"
   ]
  },
  {
   "cell_type": "code",
   "execution_count": null,
   "id": "f474385e",
   "metadata": {},
   "outputs": [],
   "source": [
    "df = read_gtf(\"/data/common/genome/gencode.v47.basic.annotation.gtf\")\n",
    "filtered_df = df.filter(\n",
    "    (pl.col('feature') == 'exon') &\n",
    "    (pl.col('gene_type') == 'protein_coding') &\n",
    "    (pl.col('seqname').is_in(['chr9']))\n",
    ")\n",
    "as_string = filtered_df.with_columns(pl.col('start').cast(pl.Utf8), pl.col('end').cast(pl.Utf8))\n",
    "as_num = as_string.with_columns(pl.col('exon_number').cast(pl.Int64))\n",
    "indexed_df = as_num.with_row_index()\n",
    "\n",
    "display(indexed_df)"
   ]
  },
  {
   "cell_type": "code",
   "execution_count": null,
   "id": "e267ed10",
   "metadata": {},
   "outputs": [],
   "source": [
    "# Get lists of first and last indices\n",
    "first_indices = []\n",
    "last_indices = []\n",
    "\n",
    "for _, group in indexed_df.group_by('transcript_id'):\n",
    "    sorted_group = group.sort('exon_number')\n",
    "    first_indices.append(sorted_group.row(0, named=True)['index'])\n",
    "    last_indices.append(sorted_group.row(-1, named=True)['index'])\n",
    "\n",
    "# Create update expressions\n",
    "placeholder_df = indexed_df.with_columns([\n",
    "    pl.when(pl.col(\"index\").is_in(first_indices))\n",
    "    .then(pl.lit(\"START\"))\n",
    "    .otherwise(pl.col(\"start\"))\n",
    "    .alias(\"start\"),\n",
    "    \n",
    "    pl.when(pl.col(\"index\").is_in(last_indices))\n",
    "    .then(pl.lit(\"END\"))\n",
    "    .otherwise(pl.col(\"end\"))\n",
    "    .alias(\"end\")\n",
    "])\n",
    "\n",
    "sorted_df = placeholder_df.sort('seqname', 'transcript_id', 'exon_number')\n",
    "\n",
    "display(sorted_df)"
   ]
  },
  {
   "cell_type": "code",
   "execution_count": null,
   "id": "ffd2dca9",
   "metadata": {},
   "outputs": [],
   "source": [
    "import polars as pl\n",
    "from IPython.display import display"
   ]
  },
  {
   "cell_type": "code",
   "execution_count": null,
   "id": "a47cbd6c",
   "metadata": {},
   "outputs": [],
   "source": [
    "quant_tsv_1 = pl.read_csv(\"../ENCFF189XTO.tsv\", separator='\\t')\n",
    "quant_tsv_2 = pl.read_csv(\"../ENCFF971DVB.tsv\", separator='\\t')\n",
    "display(quant_tsv_1)\n",
    "display(quant_tsv_2)\n"
   ]
  },
  {
   "cell_type": "code",
   "execution_count": null,
   "id": "57ddeacb",
   "metadata": {},
   "outputs": [],
   "source": [
    "joined_tsv = quant_tsv_1.join(quant_tsv_2, on='transcript_ID', how='inner')\n",
    "display(joined_tsv)\n",
    "\n",
    "averaged_counts = joined_tsv.with_columns(\n",
    "    ((pl.col('rep1ENCSR368UNC') + pl.col('rep2ENCSR368UNC')) / 2).alias('transcript_count')\n",
    ")\n",
    "clean_tsv = averaged_counts.select(\"annot_transcript_id\", \"annot_transcript_name\", \"transcript_count\")"
   ]
  },
  {
   "cell_type": "code",
   "execution_count": 3,
   "id": "30b3683e",
   "metadata": {},
   "outputs": [],
   "source": [
    "import polars as pl \n",
    "from gtfparse import read_gtf"
   ]
  },
  {
   "cell_type": "code",
   "execution_count": 6,
   "id": "f2ce26ea",
   "metadata": {},
   "outputs": [
    {
     "name": "stderr",
     "output_type": "stream",
     "text": [
      "INFO:root:Extracted GTF attributes: ['gene_id', 'gene_type', 'gene_name', 'level', 'tag', 'transcript_id', 'transcript_type', 'transcript_name', 'transcript_support_level', 'havana_transcript', 'exon_number', 'exon_id', 'hgnc_id', 'havana_gene', 'ont', 'protein_id', 'ccdsid', 'artif_dupl']\n"
     ]
    }
   ],
   "source": [
    "gtf_file = read_gtf(\"/data/common/genome/gencode.v44.basic.annotation.gtf\")\n",
    "gtf_file.write_parquet(\"../reference_files/gencode.v44.basic.annotation.gtf.parquet\")"
   ]
  },
  {
   "cell_type": "code",
   "execution_count": null,
   "id": "7d5c8654",
   "metadata": {},
   "outputs": [],
   "source": []
  }
 ],
 "metadata": {
  "kernelspec": {
   "display_name": ".venv",
   "language": "python",
   "name": "python3"
  },
  "language_info": {
   "codemirror_mode": {
    "name": "ipython",
    "version": 3
   },
   "file_extension": ".py",
   "mimetype": "text/x-python",
   "name": "python",
   "nbconvert_exporter": "python",
   "pygments_lexer": "ipython3",
   "version": "3.10.12"
  }
 },
 "nbformat": 4,
 "nbformat_minor": 5
}
