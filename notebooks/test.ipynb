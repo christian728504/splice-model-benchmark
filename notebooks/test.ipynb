{
 "cells": [
  {
   "cell_type": "code",
   "execution_count": null,
   "id": "cc4748da",
   "metadata": {},
   "outputs": [],
   "source": [
    "import subprocess\n",
    "import os\n",
    "\n",
    "\n",
    "def make_fasta(output_dir = \"results\"):\n",
    "    os.makedirs(output_dir, exist_ok=True)\n",
    "    os.chdir(output_dir)\n",
    "\n",
    "    download_variants = \"wget https://ftp-trace.ncbi.nlm.nih.gov/ReferenceSamples/giab/release/NA12878_HG001/latest/GRCh38/HG001_GRCh38_1_22_v4.2.1_benchmark.vcf.gz\"\n",
    "    download_reference_genome = \"wget https://ftp-trace.ncbi.nlm.nih.gov/ReferenceSamples/giab/release/references/GRCh38/GCA_000001405.15_GRCh38_no_alt_analysis_set.fasta.gz && gunzip GCA_000001405.15_GRCh38_no_alt_analysis_set.fasta\"\n",
    "    get_biallelic_variants = \"bcftools view -v snps -m2 -M2 HG001_GRCh38_1_22_v4.2.1_benchmark.vcf.gz -Oz -o GM12878_SNPs_biallelic.vcf.gz\"\n",
    "    get_index = \"bcftools index GM12878_SNPs_biallelic.vcf.gz\"\n",
    "    get_consensus = \"bcftools consensus -f GCA_000001405.15_GRCh38_no_alt_analysis_set.fasta -H 1 GM12878_SNPs_biallelic.vcf.gz > GM12878.fasta\"\n",
    "\n",
    "    subprocess.run(download_variants, shell=True)\n",
    "    subprocess.run(download_reference_genome, shell=True)\n",
    "    subprocess.run(get_biallelic_variants, shell=True)\n",
    "    subprocess.run(get_index, shell=True)\n",
    "    subprocess.run(get_consensus, shell=True)\n",
    "\n",
    "    os.remove(path=\"HG001_GRCh38_1_22_v4.2.1_benchmark.vcf.gz\")\n",
    "    os.remove(path=\"GCA_000001405.15_GRCh38_no_alt_analysis_set.fasta\")\n",
    "    os.remove(path=\"GM12878_SNPs_biallelic.vcf.gz\")\n",
    "    os.remove(path=\"GM12878_SNPs_biallelic.vcf.gz.csi\")\n",
    "    \n",
    "    print(f\"Done! Fasta file saved to {output_dir}/GM12878.fasta\")"
   ]
  },
  {
   "cell_type": "code",
   "execution_count": null,
   "id": "7e7ae2f8",
   "metadata": {},
   "outputs": [],
   "source": [
    "make_fasta()"
   ]
  },
  {
   "cell_type": "code",
   "execution_count": null,
   "id": "b76f47dc",
   "metadata": {},
   "outputs": [],
   "source": [
    "from gtfparse import read_gtf\n",
    "import polars as pl\n",
    "from IPython.display import display"
   ]
  },
  {
   "cell_type": "code",
   "execution_count": null,
   "id": "f474385e",
   "metadata": {},
   "outputs": [],
   "source": [
    "df = read_gtf(\"/data/common/genome/gencode.v47.basic.annotation.gtf\")\n",
    "filtered_df = df.filter(\n",
    "    (pl.col('feature') == 'exon') &\n",
    "    (pl.col('gene_type') == 'protein_coding') &\n",
    "    (pl.col('seqname').is_in(['chr9']))\n",
    ")\n",
    "as_string = filtered_df.with_columns(pl.col('start').cast(pl.Utf8), pl.col('end').cast(pl.Utf8))\n",
    "as_num = as_string.with_columns(pl.col('exon_number').cast(pl.Int64))\n",
    "indexed_df = as_num.with_row_index()\n",
    "\n",
    "display(indexed_df)"
   ]
  },
  {
   "cell_type": "code",
   "execution_count": null,
   "id": "e267ed10",
   "metadata": {},
   "outputs": [],
   "source": [
    "# Get lists of first and last indices\n",
    "first_indices = []\n",
    "last_indices = []\n",
    "\n",
    "for _, group in indexed_df.group_by('transcript_id'):\n",
    "    sorted_group = group.sort('exon_number')\n",
    "    first_indices.append(sorted_group.row(0, named=True)['index'])\n",
    "    last_indices.append(sorted_group.row(-1, named=True)['index'])\n",
    "\n",
    "# Create update expressions\n",
    "placeholder_df = indexed_df.with_columns([\n",
    "    pl.when(pl.col(\"index\").is_in(first_indices))\n",
    "    .then(pl.lit(\"START\"))\n",
    "    .otherwise(pl.col(\"start\"))\n",
    "    .alias(\"start\"),\n",
    "    \n",
    "    pl.when(pl.col(\"index\").is_in(last_indices))\n",
    "    .then(pl.lit(\"END\"))\n",
    "    .otherwise(pl.col(\"end\"))\n",
    "    .alias(\"end\")\n",
    "])\n",
    "\n",
    "sorted_df = placeholder_df.sort('seqname', 'transcript_id', 'exon_number')\n",
    "\n",
    "display(sorted_df)"
   ]
  },
  {
   "cell_type": "code",
   "execution_count": null,
   "id": "ffd2dca9",
   "metadata": {},
   "outputs": [],
   "source": [
    "import polars as pl\n",
    "from IPython.display import display"
   ]
  },
  {
   "cell_type": "code",
   "execution_count": null,
   "id": "a47cbd6c",
   "metadata": {},
   "outputs": [],
   "source": [
    "quant_tsv_1 = pl.read_csv(\"../ENCFF189XTO.tsv\", separator='\\t')\n",
    "quant_tsv_2 = pl.read_csv(\"../ENCFF971DVB.tsv\", separator='\\t')\n",
    "display(quant_tsv_1)\n",
    "display(quant_tsv_2)\n"
   ]
  },
  {
   "cell_type": "code",
   "execution_count": null,
   "id": "57ddeacb",
   "metadata": {},
   "outputs": [],
   "source": [
    "joined_tsv = quant_tsv_1.join(quant_tsv_2, on='transcript_ID', how='inner')\n",
    "display(joined_tsv)\n",
    "\n",
    "averaged_counts = joined_tsv.with_columns(\n",
    "    ((pl.col('rep1ENCSR368UNC') + pl.col('rep2ENCSR368UNC')) / 2).alias('transcript_count')\n",
    ")\n",
    "clean_tsv = averaged_counts.select(\"annot_transcript_id\", \"annot_transcript_name\", \"transcript_count\")"
   ]
  },
  {
   "cell_type": "code",
   "execution_count": null,
   "id": "30b3683e",
   "metadata": {},
   "outputs": [],
   "source": [
    "import polars as pl \n",
    "from gtfparse import read_gtf"
   ]
  },
  {
   "cell_type": "code",
   "execution_count": null,
   "id": "f2ce26ea",
   "metadata": {},
   "outputs": [],
   "source": [
    "gtf_file = read_gtf(\"/data/common/genome/gencode.v44.basic.annotation.gtf\")\n",
    "gtf_file.write_parquet(\"../reference_files/gencode.v44.basic.annotation.gtf.parquet\")"
   ]
  },
  {
   "cell_type": "code",
   "execution_count": null,
   "id": "7090ea1c",
   "metadata": {},
   "outputs": [],
   "source": []
  },
  {
   "cell_type": "code",
   "execution_count": null,
   "id": "7d5c8654",
   "metadata": {},
   "outputs": [],
   "source": [
    "import os\n",
    "os.chdir(\"/zata/zippy/ramirezc/splice-model-benchmark\")\n",
    "\n",
    "import sys\n",
    "splice_transformer_path = os.path.join(f\"{os.getcwd}\", 'reference_files', 'SpliceTransformer')\n",
    "sys.path.append(splice_transformer_path)\n",
    "\n",
    "import pandas as pd\n",
    "import numpy as np\n",
    "from pyfaidx import Fasta\n",
    "import argparse\n",
    "import vcf as pyvcf\n",
    "from pyensembl import Genome\n",
    "import tqdm\n",
    "import os\n",
    "from sptransformer import Annotator\n",
    "import torch"
   ]
  },
  {
   "cell_type": "code",
   "execution_count": null,
   "id": "04c2ed31",
   "metadata": {},
   "outputs": [],
   "source": [
    "annotator = Annotator()\n",
    "gtf = annotator.gtf\n",
    "\n",
    "tis_names = ['Adipose Tissue', 'Blood', 'Blood Vessel', 'Brain', 'Colon', 'Heart', 'Kidney',\n",
    "                'Liver', 'Lung', 'Muscle', 'Nerve', 'Small Intestine', 'Skin', 'Spleen', 'Stomach']\n",
    "\n",
    "input_seq = 'N'*4000 + 'ACGTAGGGCG' + 'N'*4000  # just an example\n",
    "input_seq = annotator.model.one_hot_encode(input_seq)\n",
    "input_seq = torch.tensor(input_seq).to(annotator.model.device)\n",
    "print(input_seq.shape)\n",
    "# the function step() accepts encoded sequence, (Batch, 4, Length),\n",
    "# thus, the input_seq should have shape (1, 4, Length)\n",
    "input_seq = input_seq.unsqueeze(0).float().transpose(1, 2)\n",
    "output = annotator.model.step(input_seq)\n",
    "print(output.shape)"
   ]
  },
  {
   "cell_type": "code",
   "execution_count": null,
   "id": "bb46e4a9",
   "metadata": {},
   "outputs": [],
   "source": [
    "import torch\n",
    "\n",
    "save_path = 'model/weights/SpTransformer_pytorch.ckpt'\n",
    "save_dict = torch.load(save_path, map_location='cpu')\n",
    "\n",
    "new_state_dict = {}\n",
    "for key, value in save_dict[\"state_dict\"].items():\n",
    "    if \"attn.pos_emb.weights_\" in key:\n",
    "        new_key = key.replace(\"attn.pos_emb.weights_\", \"attn.pos_emb.weights.\")\n",
    "        new_state_dict[new_key] = value\n",
    "    else:\n",
    "        new_state_dict[key] = value\n",
    "\n",
    "save_dict[\"state_dict\"] = new_state_dict\n",
    "\n",
    "new_save_path = 'model/weights/SpTransformer_pytorch_fixed.ckpt'\n",
    "torch.save(save_dict, new_save_path)\n",
    "\n",
    "print(f\"Modified checkpoint saved to {new_save_path}\")"
   ]
  },
  {
   "cell_type": "code",
   "execution_count": null,
   "id": "7d0d7a34",
   "metadata": {},
   "outputs": [],
   "source": [
    "import torch\n",
    "from pangolin.model import *\n",
    "import os\n",
    "os.chdir(\"/zata/zippy/ramirezc/splice-model-benchmark\")\n",
    "\n",
    "model_path = \"reference_files/pangolin/models/final.{model_index}.{model_num}.3\"\n",
    "\n",
    "model_nums = [0, 2, 4, 6]\n",
    "models = []\n",
    "for i in model_nums:\n",
    "    for j in range(1, 6):\n",
    "        model = Pangolin(L, W, AR)\n",
    "        model.cuda()\n",
    "        weights = torch.load(model_path.format(model_index=j, model_num=i))\n",
    "        model.load_state_dict(weights)\n",
    "        model.eval()\n",
    "        models.append(model)\n",
    "                \n",
    "print(models)\n"
   ]
  },
  {
   "cell_type": "code",
   "execution_count": null,
   "id": "dafea605",
   "metadata": {},
   "outputs": [],
   "source": [
    "import zarr\n",
    "import os"
   ]
  },
  {
   "cell_type": "code",
   "execution_count": null,
   "id": "3078368e",
   "metadata": {},
   "outputs": [],
   "source": [
    "splice_site_predicitons = zarr.open_group(store=\"/zata/zippy/ramirezc/splice-model-benchmark/results/pangolin_predictions.zarr/splice_site_predictions\", mode=\"r\")\n",
    "splice_site_truth = zarr.open_group(store=\"/zata/zippy/ramirezc/splice-model-benchmark/results/pangolin_predictions.zarr/splice_site_truth\", mode=\"r\")\n",
    "splice_sites = zarr.open_group(store=\"/zata/zippy/ramirezc/splice-model-benchmark/results/pangolin_predictions.zarr/splice_sites\", mode=\"r\")"
   ]
  },
  {
   "cell_type": "code",
   "execution_count": null,
   "id": "7b901af6",
   "metadata": {},
   "outputs": [],
   "source": [
    "print(splice_site_predicitons[\"chr1\"][11963635])\n",
    "print(splice_site_truth[\"chr1\"][11963635])"
   ]
  },
  {
   "cell_type": "code",
   "execution_count": null,
   "id": "76fa56af",
   "metadata": {},
   "outputs": [],
   "source": [
    "print(splice_sites['metadata'][:200])"
   ]
  },
  {
   "cell_type": "code",
   "execution_count": null,
   "id": "0c4a0ec0",
   "metadata": {},
   "outputs": [],
   "source": [
    "from nucleotide_transformer.pretrained import get_pretrained_segment_nt_model\n",
    "import haiku as hk"
   ]
  },
  {
   "cell_type": "code",
   "execution_count": null,
   "id": "1a53c7ea",
   "metadata": {},
   "outputs": [],
   "source": [
    "parameters, forward_fn, tokenizer, config = get_pretrained_segment_nt_model(\n",
    "    model_name=\"segment_nt\",\n",
    "    max_positions=5000 + 1,\n",
    ")\n",
    "forward_fn = hk.transform(forward_fn)\n",
    "donor_idx = config.features.index('splice_donor')\n",
    "acceptor_idx = config.features.index('splice_acceptor')\n",
    "print(config.features)"
   ]
  },
  {
   "cell_type": "code",
   "execution_count": null,
   "id": "c715fa30",
   "metadata": {},
   "outputs": [],
   "source": [
    "import os\n",
    "os.chdir(\"/zata/zippy/ramirezc/splice-model-benchmark\")\n",
    "\n",
    "import polars as pl\n",
    "import numpy as np\n",
    "from models.spliceai import SpliceAIEvaluator\n",
    "from IPython.display import display"
   ]
  },
  {
   "cell_type": "code",
   "execution_count": null,
   "id": "6018b720",
   "metadata": {},
   "outputs": [],
   "source": [
    "print([f\"chr{i}\" for i in range(1, 11, 2)])"
   ]
  },
  {
   "cell_type": "code",
   "execution_count": null,
   "id": "7a087520",
   "metadata": {},
   "outputs": [],
   "source": [
    "evaluator = SpliceAIEvaluator()\n",
    "sorted_df = evaluator._filter_gencode()\n",
    "display(sorted_df)"
   ]
  },
  {
   "cell_type": "code",
   "execution_count": null,
   "id": "ddcb04b5",
   "metadata": {},
   "outputs": [],
   "source": [
    "quant_tsv_1 = pl.read_csv(\"reference_files/transcript_quantifications_rep1.tsv\", separator='\\t')\n",
    "quant_tsv_2 = pl.read_csv(\"reference_files/transcript_quantifications_rep2.tsv\", separator='\\t')\n",
    "joined_tsv = quant_tsv_1.join(quant_tsv_2, on='transcript_ID', how='inner')\n",
    "averaged_counts = joined_tsv.with_columns(\n",
    "    ((pl.col('rep1ENCSR368UNC') + pl.col('rep2ENCSR368UNC')) / 2).alias('transcript_count')\n",
    ")\n",
    "clean_tsv = averaged_counts.select(\"annot_transcript_id\", \"annot_transcript_name\", \"transcript_count\")\n",
    "expressed_transcripts = clean_tsv.filter(pl.col('transcript_count') >= 2.0)['annot_transcript_id'].to_list()\n",
    "\n",
    "gtf = pl.read_parquet(\"reference_files/gencode.v29.primary_assembly.annotation_UCSC_names.gtf.parquet\")\n",
    "filtered_df = gtf.filter(\n",
    "    (pl.col('feature') == 'transcript') &\n",
    "    (pl.col('gene_type') == 'protein_coding') &\n",
    "    (pl.col('seqname').is_in([f\"chr{i}\" for i in range(1, 11, 2)])) &\n",
    "    (pl.col('transcript_id').is_in(expressed_transcripts))\n",
    ")\n",
    "display(filtered_df)"
   ]
  },
  {
   "cell_type": "code",
   "execution_count": null,
   "id": "c02b8794",
   "metadata": {},
   "outputs": [],
   "source": [
    "print(f\"Average length of transcripts: {np.median((filtered_df['end'].to_numpy() - filtered_df['start'].to_numpy()))}\")"
   ]
  },
  {
   "cell_type": "code",
   "execution_count": null,
   "id": "ffa8b708",
   "metadata": {},
   "outputs": [],
   "source": [
    "import polars as pl\n",
    "from IPython.display import display"
   ]
  },
  {
   "cell_type": "code",
   "execution_count": null,
   "id": "af58af8f",
   "metadata": {},
   "outputs": [],
   "source": [
    "vcf = pl.read_csv(\"HG001_GRCh38_1_22_v4.2.1_benchmark.vcf\", separator=\"\\t\", comment_prefix=\"#\", new_columns=[\"CHROM\", \"POS\", \"ID\", \"REF\", \"ALT\", \"QUAL\", \"FILTER\", \"INFO\", \"FORMAT\", \"HG001\"])\n",
    "display(vcf)\n"
   ]
  },
  {
   "cell_type": "code",
   "execution_count": null,
   "id": "dda71e3d",
   "metadata": {},
   "outputs": [],
   "source": [
    "filter_chroms = vcf.filter(pl.col(\"CHROM\").is_in([f\"chr{i}\" for i in range(1, 11, 2)]))\n",
    "display(filter_chroms)\n"
   ]
  },
  {
   "cell_type": "code",
   "execution_count": null,
   "id": "cc1f142a",
   "metadata": {},
   "outputs": [],
   "source": [
    "filtered_gtf = pl.read_parquet(\"filtered_gtf.parquet\")\n",
    "display(filtered_gtf)"
   ]
  },
  {
   "cell_type": "code",
   "execution_count": null,
   "id": "418d0a39",
   "metadata": {},
   "outputs": [],
   "source": [
    "with_start = filtered_gtf.with_columns(\n",
    "    pl.lit('start').alias('pos_type'),\n",
    "    pl.col('start').alias('POS'))\n",
    "with_end = filtered_gtf.with_columns(\n",
    "    pl.lit('end').alias('pos_type'),\n",
    "    pl.col('end').alias('POS')\n",
    ")\n",
    "\n",
    "concatenated = pl.concat([with_start, with_end])\n",
    "dropped = concatenated.drop('start', 'end')\n",
    "to_none = dropped.with_columns(pl.col('POS').replace(\"EXCLUDE\", pl.lit(None)))\n",
    "as_int = to_none.with_columns(pl.col('POS').cast(pl.Int64))\n",
    "rename = as_int.with_columns(pl.col('seqname').cast(pl.String).alias('CHROM')).drop('seqname', 'index')\n",
    "drop_null = rename.drop_nulls(subset=['POS']).with_row_index()\n",
    "\n",
    "display(drop_null)"
   ]
  },
  {
   "cell_type": "code",
   "execution_count": 9,
   "id": "2d7b0688",
   "metadata": {},
   "outputs": [
    {
     "name": "stdout",
     "output_type": "stream",
     "text": [
      "Filtering GENCODE GTF...\n",
      "Number of expressed transcripts: 10660\n",
      "Number of transcripts per chromsome: shape: (5, 2)\n",
      "┌─────────┬─────┐\n",
      "│ seqname ┆ len │\n",
      "│ ---     ┆ --- │\n",
      "│ cat     ┆ u32 │\n",
      "╞═════════╪═════╡\n",
      "│ chr1    ┆ 281 │\n",
      "│ chr3    ┆ 136 │\n",
      "│ chr5    ┆ 113 │\n",
      "│ chr7    ┆ 129 │\n",
      "│ chr9    ┆ 98  │\n",
      "└─────────┴─────┘\n"
     ]
    },
    {
     "data": {
      "text/html": [
       "<div><style>\n",
       ".dataframe > thead > tr,\n",
       ".dataframe > tbody > tr {\n",
       "  text-align: right;\n",
       "  white-space: pre-wrap;\n",
       "}\n",
       "</style>\n",
       "<small>shape: (9_018, 25)</small><table border=\"1\" class=\"dataframe\"><thead><tr><th>index</th><th>seqname</th><th>source</th><th>feature</th><th>score</th><th>strand</th><th>frame</th><th>gene_id</th><th>gene_type</th><th>gene_name</th><th>level</th><th>havana_gene</th><th>transcript_id</th><th>transcript_type</th><th>transcript_name</th><th>transcript_support_level</th><th>tag</th><th>havana_transcript</th><th>exon_number</th><th>exon_id</th><th>ont</th><th>protein_id</th><th>ccdsid</th><th>pos_type</th><th>pos</th></tr><tr><td>u32</td><td>cat</td><td>cat</td><td>cat</td><td>f32</td><td>cat</td><td>i64</td><td>str</td><td>str</td><td>str</td><td>str</td><td>str</td><td>str</td><td>str</td><td>str</td><td>str</td><td>str</td><td>str</td><td>i64</td><td>str</td><td>str</td><td>str</td><td>str</td><td>str</td><td>i64</td></tr></thead><tbody><tr><td>0</td><td>&quot;chr1&quot;</td><td>&quot;HAVANA&quot;</td><td>&quot;exon&quot;</td><td>null</td><td>&quot;-&quot;</td><td>0</td><td>&quot;ENSG00000081870.11&quot;</td><td>&quot;protein_coding&quot;</td><td>&quot;HSPB11&quot;</td><td>&quot;2&quot;</td><td>&quot;OTTHUMG00000008408.4&quot;</td><td>&quot;ENST00000194214.9&quot;</td><td>&quot;protein_coding&quot;</td><td>&quot;HSPB11-201&quot;</td><td>&quot;1&quot;</td><td>&quot;basic,appris_principal_1,CCDS&quot;</td><td>&quot;OTTHUMT00000023114.1&quot;</td><td>1</td><td>&quot;ENSE00001841796.1&quot;</td><td>&quot;&quot;</td><td>&quot;ENSP00000194214.5&quot;</td><td>&quot;CCDS41341.1&quot;</td><td>&quot;end&quot;</td><td>53945929</td></tr><tr><td>1</td><td>&quot;chr1&quot;</td><td>&quot;HAVANA&quot;</td><td>&quot;exon&quot;</td><td>null</td><td>&quot;-&quot;</td><td>0</td><td>&quot;ENSG00000081870.11&quot;</td><td>&quot;protein_coding&quot;</td><td>&quot;HSPB11&quot;</td><td>&quot;2&quot;</td><td>&quot;OTTHUMG00000008408.4&quot;</td><td>&quot;ENST00000194214.9&quot;</td><td>&quot;protein_coding&quot;</td><td>&quot;HSPB11-201&quot;</td><td>&quot;1&quot;</td><td>&quot;basic,appris_principal_1,CCDS&quot;</td><td>&quot;OTTHUMT00000023114.1&quot;</td><td>2</td><td>&quot;ENSE00001334213.1&quot;</td><td>&quot;&quot;</td><td>&quot;ENSP00000194214.5&quot;</td><td>&quot;CCDS41341.1&quot;</td><td>&quot;start&quot;</td><td>53939985</td></tr><tr><td>2</td><td>&quot;chr1&quot;</td><td>&quot;HAVANA&quot;</td><td>&quot;exon&quot;</td><td>null</td><td>&quot;-&quot;</td><td>0</td><td>&quot;ENSG00000081870.11&quot;</td><td>&quot;protein_coding&quot;</td><td>&quot;HSPB11&quot;</td><td>&quot;2&quot;</td><td>&quot;OTTHUMG00000008408.4&quot;</td><td>&quot;ENST00000194214.9&quot;</td><td>&quot;protein_coding&quot;</td><td>&quot;HSPB11-201&quot;</td><td>&quot;1&quot;</td><td>&quot;basic,appris_principal_1,CCDS&quot;</td><td>&quot;OTTHUMT00000023114.1&quot;</td><td>2</td><td>&quot;ENSE00001334213.1&quot;</td><td>&quot;&quot;</td><td>&quot;ENSP00000194214.5&quot;</td><td>&quot;CCDS41341.1&quot;</td><td>&quot;end&quot;</td><td>53940097</td></tr><tr><td>3</td><td>&quot;chr1&quot;</td><td>&quot;HAVANA&quot;</td><td>&quot;exon&quot;</td><td>null</td><td>&quot;-&quot;</td><td>0</td><td>&quot;ENSG00000081870.11&quot;</td><td>&quot;protein_coding&quot;</td><td>&quot;HSPB11&quot;</td><td>&quot;2&quot;</td><td>&quot;OTTHUMG00000008408.4&quot;</td><td>&quot;ENST00000194214.9&quot;</td><td>&quot;protein_coding&quot;</td><td>&quot;HSPB11-201&quot;</td><td>&quot;1&quot;</td><td>&quot;basic,appris_principal_1,CCDS&quot;</td><td>&quot;OTTHUMT00000023114.1&quot;</td><td>3</td><td>&quot;ENSE00000772733.1&quot;</td><td>&quot;&quot;</td><td>&quot;ENSP00000194214.5&quot;</td><td>&quot;CCDS41341.1&quot;</td><td>&quot;start&quot;</td><td>53930039</td></tr><tr><td>4</td><td>&quot;chr1&quot;</td><td>&quot;HAVANA&quot;</td><td>&quot;exon&quot;</td><td>null</td><td>&quot;-&quot;</td><td>0</td><td>&quot;ENSG00000081870.11&quot;</td><td>&quot;protein_coding&quot;</td><td>&quot;HSPB11&quot;</td><td>&quot;2&quot;</td><td>&quot;OTTHUMG00000008408.4&quot;</td><td>&quot;ENST00000194214.9&quot;</td><td>&quot;protein_coding&quot;</td><td>&quot;HSPB11-201&quot;</td><td>&quot;1&quot;</td><td>&quot;basic,appris_principal_1,CCDS&quot;</td><td>&quot;OTTHUMT00000023114.1&quot;</td><td>3</td><td>&quot;ENSE00000772733.1&quot;</td><td>&quot;&quot;</td><td>&quot;ENSP00000194214.5&quot;</td><td>&quot;CCDS41341.1&quot;</td><td>&quot;end&quot;</td><td>53930145</td></tr><tr><td>&hellip;</td><td>&hellip;</td><td>&hellip;</td><td>&hellip;</td><td>&hellip;</td><td>&hellip;</td><td>&hellip;</td><td>&hellip;</td><td>&hellip;</td><td>&hellip;</td><td>&hellip;</td><td>&hellip;</td><td>&hellip;</td><td>&hellip;</td><td>&hellip;</td><td>&hellip;</td><td>&hellip;</td><td>&hellip;</td><td>&hellip;</td><td>&hellip;</td><td>&hellip;</td><td>&hellip;</td><td>&hellip;</td><td>&hellip;</td><td>&hellip;</td></tr><tr><td>9013</td><td>&quot;chr9&quot;</td><td>&quot;HAVANA&quot;</td><td>&quot;exon&quot;</td><td>null</td><td>&quot;+&quot;</td><td>0</td><td>&quot;ENSG00000165060.12&quot;</td><td>&quot;protein_coding&quot;</td><td>&quot;FXN&quot;</td><td>&quot;2&quot;</td><td>&quot;OTTHUMG00000019977.11&quot;</td><td>&quot;ENST00000643639.1&quot;</td><td>&quot;protein_coding&quot;</td><td>&quot;FXN-207&quot;</td><td>&quot;&quot;</td><td>&quot;basic,appris_principal_1,CCDS&quot;</td><td>&quot;OTTHUMT00000052568.4&quot;</td><td>3</td><td>&quot;ENSE00001089856.1&quot;</td><td>&quot;&quot;</td><td>&quot;ENSP00000496143.1&quot;</td><td>&quot;CCDS6626.1&quot;</td><td>&quot;start&quot;</td><td>69053140</td></tr><tr><td>9014</td><td>&quot;chr9&quot;</td><td>&quot;HAVANA&quot;</td><td>&quot;exon&quot;</td><td>null</td><td>&quot;+&quot;</td><td>0</td><td>&quot;ENSG00000165060.12&quot;</td><td>&quot;protein_coding&quot;</td><td>&quot;FXN&quot;</td><td>&quot;2&quot;</td><td>&quot;OTTHUMG00000019977.11&quot;</td><td>&quot;ENST00000643639.1&quot;</td><td>&quot;protein_coding&quot;</td><td>&quot;FXN-207&quot;</td><td>&quot;&quot;</td><td>&quot;basic,appris_principal_1,CCDS&quot;</td><td>&quot;OTTHUMT00000052568.4&quot;</td><td>3</td><td>&quot;ENSE00001089856.1&quot;</td><td>&quot;&quot;</td><td>&quot;ENSP00000496143.1&quot;</td><td>&quot;CCDS6626.1&quot;</td><td>&quot;end&quot;</td><td>69053260</td></tr><tr><td>9015</td><td>&quot;chr9&quot;</td><td>&quot;HAVANA&quot;</td><td>&quot;exon&quot;</td><td>null</td><td>&quot;+&quot;</td><td>0</td><td>&quot;ENSG00000165060.12&quot;</td><td>&quot;protein_coding&quot;</td><td>&quot;FXN&quot;</td><td>&quot;2&quot;</td><td>&quot;OTTHUMG00000019977.11&quot;</td><td>&quot;ENST00000643639.1&quot;</td><td>&quot;protein_coding&quot;</td><td>&quot;FXN-207&quot;</td><td>&quot;&quot;</td><td>&quot;basic,appris_principal_1,CCDS&quot;</td><td>&quot;OTTHUMT00000052568.4&quot;</td><td>4</td><td>&quot;ENSE00001089858.1&quot;</td><td>&quot;&quot;</td><td>&quot;ENSP00000496143.1&quot;</td><td>&quot;CCDS6626.1&quot;</td><td>&quot;start&quot;</td><td>69064938</td></tr><tr><td>9016</td><td>&quot;chr9&quot;</td><td>&quot;HAVANA&quot;</td><td>&quot;exon&quot;</td><td>null</td><td>&quot;+&quot;</td><td>0</td><td>&quot;ENSG00000165060.12&quot;</td><td>&quot;protein_coding&quot;</td><td>&quot;FXN&quot;</td><td>&quot;2&quot;</td><td>&quot;OTTHUMG00000019977.11&quot;</td><td>&quot;ENST00000643639.1&quot;</td><td>&quot;protein_coding&quot;</td><td>&quot;FXN-207&quot;</td><td>&quot;&quot;</td><td>&quot;basic,appris_principal_1,CCDS&quot;</td><td>&quot;OTTHUMT00000052568.4&quot;</td><td>4</td><td>&quot;ENSE00001089858.1&quot;</td><td>&quot;&quot;</td><td>&quot;ENSP00000496143.1&quot;</td><td>&quot;CCDS6626.1&quot;</td><td>&quot;end&quot;</td><td>69065035</td></tr><tr><td>9017</td><td>&quot;chr9&quot;</td><td>&quot;HAVANA&quot;</td><td>&quot;exon&quot;</td><td>null</td><td>&quot;+&quot;</td><td>0</td><td>&quot;ENSG00000165060.12&quot;</td><td>&quot;protein_coding&quot;</td><td>&quot;FXN&quot;</td><td>&quot;2&quot;</td><td>&quot;OTTHUMG00000019977.11&quot;</td><td>&quot;ENST00000643639.1&quot;</td><td>&quot;protein_coding&quot;</td><td>&quot;FXN-207&quot;</td><td>&quot;&quot;</td><td>&quot;basic,appris_principal_1,CCDS&quot;</td><td>&quot;OTTHUMT00000052568.4&quot;</td><td>5</td><td>&quot;ENSE00001887404.2&quot;</td><td>&quot;&quot;</td><td>&quot;ENSP00000496143.1&quot;</td><td>&quot;CCDS6626.1&quot;</td><td>&quot;start&quot;</td><td>69072612</td></tr></tbody></table></div>"
      ],
      "text/plain": [
       "shape: (9_018, 25)\n",
       "┌───────┬─────────┬────────┬─────────┬───┬───────────────────┬─────────────┬──────────┬──────────┐\n",
       "│ index ┆ seqname ┆ source ┆ feature ┆ … ┆ protein_id        ┆ ccdsid      ┆ pos_type ┆ pos      │\n",
       "│ ---   ┆ ---     ┆ ---    ┆ ---     ┆   ┆ ---               ┆ ---         ┆ ---      ┆ ---      │\n",
       "│ u32   ┆ cat     ┆ cat    ┆ cat     ┆   ┆ str               ┆ str         ┆ str      ┆ i64      │\n",
       "╞═══════╪═════════╪════════╪═════════╪═══╪═══════════════════╪═════════════╪══════════╪══════════╡\n",
       "│ 0     ┆ chr1    ┆ HAVANA ┆ exon    ┆ … ┆ ENSP00000194214.5 ┆ CCDS41341.1 ┆ end      ┆ 53945929 │\n",
       "│ 1     ┆ chr1    ┆ HAVANA ┆ exon    ┆ … ┆ ENSP00000194214.5 ┆ CCDS41341.1 ┆ start    ┆ 53939985 │\n",
       "│ 2     ┆ chr1    ┆ HAVANA ┆ exon    ┆ … ┆ ENSP00000194214.5 ┆ CCDS41341.1 ┆ end      ┆ 53940097 │\n",
       "│ 3     ┆ chr1    ┆ HAVANA ┆ exon    ┆ … ┆ ENSP00000194214.5 ┆ CCDS41341.1 ┆ start    ┆ 53930039 │\n",
       "│ 4     ┆ chr1    ┆ HAVANA ┆ exon    ┆ … ┆ ENSP00000194214.5 ┆ CCDS41341.1 ┆ end      ┆ 53930145 │\n",
       "│ …     ┆ …       ┆ …      ┆ …       ┆ … ┆ …                 ┆ …           ┆ …        ┆ …        │\n",
       "│ 9013  ┆ chr9    ┆ HAVANA ┆ exon    ┆ … ┆ ENSP00000496143.1 ┆ CCDS6626.1  ┆ start    ┆ 69053140 │\n",
       "│ 9014  ┆ chr9    ┆ HAVANA ┆ exon    ┆ … ┆ ENSP00000496143.1 ┆ CCDS6626.1  ┆ end      ┆ 69053260 │\n",
       "│ 9015  ┆ chr9    ┆ HAVANA ┆ exon    ┆ … ┆ ENSP00000496143.1 ┆ CCDS6626.1  ┆ start    ┆ 69064938 │\n",
       "│ 9016  ┆ chr9    ┆ HAVANA ┆ exon    ┆ … ┆ ENSP00000496143.1 ┆ CCDS6626.1  ┆ end      ┆ 69065035 │\n",
       "│ 9017  ┆ chr9    ┆ HAVANA ┆ exon    ┆ … ┆ ENSP00000496143.1 ┆ CCDS6626.1  ┆ start    ┆ 69072612 │\n",
       "└───────┴─────────┴────────┴─────────┴───┴───────────────────┴─────────────┴──────────┴──────────┘"
      ]
     },
     "metadata": {},
     "output_type": "display_data"
    }
   ],
   "source": [
    "import polars as pl\n",
    "from IPython.display import display\n",
    "import os\n",
    "os.chdir(\"/zata/zippy/ramirezc/splice-model-benchmark\")\n",
    "\n",
    "\n",
    "print(\"Filtering GENCODE GTF...\")\n",
    "quant_tsv_1 = pl.read_csv(\"reference_files/transcript_quantifications_rep1.tsv\", separator='\\t')\n",
    "quant_tsv_2 = pl.read_csv(\"reference_files/transcript_quantifications_rep2.tsv\", separator='\\t')\n",
    "joined_tsv = quant_tsv_1.join(quant_tsv_2, on='transcript_ID', how='inner')\n",
    "averaged_counts = joined_tsv.with_columns(\n",
    "    ((pl.col('rep1ENCSR368UNC') + pl.col('rep2ENCSR368UNC')) / 2).alias('transcript_count')\n",
    ")\n",
    "clean_tsv = averaged_counts.select(\"annot_transcript_id\", \"annot_transcript_name\", \"transcript_count\")\n",
    "expressed_transcripts = clean_tsv.filter(pl.col('transcript_count') >= 2.0)['annot_transcript_id'].to_list()\n",
    "print(f\"Number of expressed transcripts: {len(expressed_transcripts)}\")\n",
    "\n",
    "gtf = pl.read_parquet(\"reference_files/gencode.v29.primary_assembly.annotation_UCSC_names.gtf.parquet\")\n",
    "filtered_df = gtf.filter(\n",
    "    (pl.col('feature') == 'exon') &\n",
    "    (pl.col('gene_type') == 'protein_coding') &\n",
    "    (pl.col('seqname').is_in(['chr1', 'chr3', 'chr5', 'chr7', 'chr9']))\n",
    ")\n",
    "filtered_df = filtered_df.filter(pl.col('transcript_id').is_in(expressed_transcripts))\n",
    "    \n",
    "transcript_counts = (\n",
    "    filtered_df\n",
    "    .select(['seqname', 'transcript_id'])\n",
    "    .unique()\n",
    "    .group_by('seqname')\n",
    "    .len()\n",
    "    .sort('seqname')\n",
    ")\n",
    "print(f\"Number of transcripts per chromsome: {transcript_counts}\")\n",
    "\n",
    "with_start = filtered_df.with_columns(\n",
    "    pl.lit('start').alias('pos_type'),\n",
    "    pl.col('start').alias('pos'))\n",
    "with_end = filtered_df.with_columns(\n",
    "    pl.lit('end').alias('pos_type'),\n",
    "    pl.col('end').alias('pos')\n",
    ")\n",
    "\n",
    "concatenated = pl.concat([with_start, with_end])\n",
    "dropped = concatenated.drop('start', 'end')\n",
    "as_int = dropped.with_columns(pl.col('pos').cast(pl.Int64), pl.col('exon_number').cast(pl.Int64))\n",
    "sorted_df = as_int.sort('seqname', 'transcript_id', 'exon_number', 'pos')\n",
    "\n",
    "grouped = sorted_df.group_by('seqname', 'transcript_id').agg(pl.col('pos'))\n",
    "remove_single_exons = grouped.filter(\n",
    "    pl.col('pos').list.len() > 2\n",
    ")\n",
    "removed_start_and_end = remove_single_exons.with_columns(\n",
    "    pl.col(\"pos\").list.slice(1, pl.col(\"pos\").list.len() - 2)\n",
    "    .alias(\"pos\")\n",
    ")\n",
    "\n",
    "expoloded_df = removed_start_and_end.explode('pos')\n",
    "joined_df = sorted_df.join(expoloded_df, on=['seqname', 'transcript_id', 'pos'], how='inner').drop('index').with_row_index()\n",
    "display(joined_df)\n",
    "\n",
    "# Drop the first and last exon for each seqname (chrom), transcript_id\n",
    "\n",
    "\n",
    "# rename = as_int.with_columns(pl.col('seqname').cast(pl.String)).drop('index', 'score')\n",
    "# drop_null = rename.drop_nulls(subset=['pos']).with_row_index()\n",
    "\n",
    "# sorted_df = drop_null.sort('seqname', 'transcript_id', 'exon_number')\n",
    "# display(sorted_df)"
   ]
  },
  {
   "cell_type": "code",
   "execution_count": null,
   "id": "b8c722b4",
   "metadata": {},
   "outputs": [],
   "source": [
    "print(removed_start_and_end['pos'][2].to_list())"
   ]
  },
  {
   "cell_type": "code",
   "execution_count": 4,
   "id": "a2536784",
   "metadata": {},
   "outputs": [
    {
     "data": {
      "text/html": [
       "<div><style>\n",
       ".dataframe > thead > tr,\n",
       ".dataframe > tbody > tr {\n",
       "  text-align: right;\n",
       "  white-space: pre-wrap;\n",
       "}\n",
       "</style>\n",
       "<small>shape: (11, 24)</small><table border=\"1\" class=\"dataframe\"><thead><tr><th>seqname</th><th>source</th><th>feature</th><th>start</th><th>end</th><th>score</th><th>strand</th><th>frame</th><th>gene_id</th><th>gene_type</th><th>gene_name</th><th>level</th><th>havana_gene</th><th>transcript_id</th><th>transcript_type</th><th>transcript_name</th><th>transcript_support_level</th><th>tag</th><th>havana_transcript</th><th>exon_number</th><th>exon_id</th><th>ont</th><th>protein_id</th><th>ccdsid</th></tr><tr><td>cat</td><td>cat</td><td>cat</td><td>i64</td><td>i64</td><td>f32</td><td>cat</td><td>i64</td><td>str</td><td>str</td><td>str</td><td>str</td><td>str</td><td>str</td><td>str</td><td>str</td><td>str</td><td>str</td><td>str</td><td>i64</td><td>str</td><td>str</td><td>str</td><td>str</td></tr></thead><tbody><tr><td>&quot;chr7&quot;</td><td>&quot;ENSEMBL&quot;</td><td>&quot;exon&quot;</td><td>44123511</td><td>44123559</td><td>null</td><td>&quot;-&quot;</td><td>0</td><td>&quot;ENSG00000106628.10&quot;</td><td>&quot;protein_coding&quot;</td><td>&quot;POLD2&quot;</td><td>&quot;3&quot;</td><td>&quot;OTTHUMG00000022909.15&quot;</td><td>&quot;ENST00000610533.4&quot;</td><td>&quot;protein_coding&quot;</td><td>&quot;POLD2-218&quot;</td><td>&quot;1&quot;</td><td>&quot;basic,CCDS&quot;</td><td>&quot;&quot;</td><td>1</td><td>&quot;ENSE00003727843.1&quot;</td><td>&quot;&quot;</td><td>&quot;ENSP00000480186.1&quot;</td><td>&quot;CCDS75586.1&quot;</td></tr><tr><td>&quot;chr7&quot;</td><td>&quot;ENSEMBL&quot;</td><td>&quot;exon&quot;</td><td>44121834</td><td>44122109</td><td>null</td><td>&quot;-&quot;</td><td>0</td><td>&quot;ENSG00000106628.10&quot;</td><td>&quot;protein_coding&quot;</td><td>&quot;POLD2&quot;</td><td>&quot;3&quot;</td><td>&quot;OTTHUMG00000022909.15&quot;</td><td>&quot;ENST00000610533.4&quot;</td><td>&quot;protein_coding&quot;</td><td>&quot;POLD2-218&quot;</td><td>&quot;1&quot;</td><td>&quot;basic,CCDS&quot;</td><td>&quot;&quot;</td><td>2</td><td>&quot;ENSE00003725493.1&quot;</td><td>&quot;&quot;</td><td>&quot;ENSP00000480186.1&quot;</td><td>&quot;CCDS75586.1&quot;</td></tr><tr><td>&quot;chr7&quot;</td><td>&quot;ENSEMBL&quot;</td><td>&quot;exon&quot;</td><td>44117943</td><td>44118064</td><td>null</td><td>&quot;-&quot;</td><td>0</td><td>&quot;ENSG00000106628.10&quot;</td><td>&quot;protein_coding&quot;</td><td>&quot;POLD2&quot;</td><td>&quot;3&quot;</td><td>&quot;OTTHUMG00000022909.15&quot;</td><td>&quot;ENST00000610533.4&quot;</td><td>&quot;protein_coding&quot;</td><td>&quot;POLD2-218&quot;</td><td>&quot;1&quot;</td><td>&quot;basic,CCDS&quot;</td><td>&quot;&quot;</td><td>3</td><td>&quot;ENSE00003570606.1&quot;</td><td>&quot;&quot;</td><td>&quot;ENSP00000480186.1&quot;</td><td>&quot;CCDS75586.1&quot;</td></tr><tr><td>&quot;chr7&quot;</td><td>&quot;ENSEMBL&quot;</td><td>&quot;exon&quot;</td><td>44117619</td><td>44117742</td><td>null</td><td>&quot;-&quot;</td><td>0</td><td>&quot;ENSG00000106628.10&quot;</td><td>&quot;protein_coding&quot;</td><td>&quot;POLD2&quot;</td><td>&quot;3&quot;</td><td>&quot;OTTHUMG00000022909.15&quot;</td><td>&quot;ENST00000610533.4&quot;</td><td>&quot;protein_coding&quot;</td><td>&quot;POLD2-218&quot;</td><td>&quot;1&quot;</td><td>&quot;basic,CCDS&quot;</td><td>&quot;&quot;</td><td>4</td><td>&quot;ENSE00003789985.1&quot;</td><td>&quot;&quot;</td><td>&quot;ENSP00000480186.1&quot;</td><td>&quot;CCDS75586.1&quot;</td></tr><tr><td>&quot;chr7&quot;</td><td>&quot;ENSEMBL&quot;</td><td>&quot;exon&quot;</td><td>44117133</td><td>44117247</td><td>null</td><td>&quot;-&quot;</td><td>0</td><td>&quot;ENSG00000106628.10&quot;</td><td>&quot;protein_coding&quot;</td><td>&quot;POLD2&quot;</td><td>&quot;3&quot;</td><td>&quot;OTTHUMG00000022909.15&quot;</td><td>&quot;ENST00000610533.4&quot;</td><td>&quot;protein_coding&quot;</td><td>&quot;POLD2-218&quot;</td><td>&quot;1&quot;</td><td>&quot;basic,CCDS&quot;</td><td>&quot;&quot;</td><td>5</td><td>&quot;ENSE00000680774.1&quot;</td><td>&quot;&quot;</td><td>&quot;ENSP00000480186.1&quot;</td><td>&quot;CCDS75586.1&quot;</td></tr><tr><td>&hellip;</td><td>&hellip;</td><td>&hellip;</td><td>&hellip;</td><td>&hellip;</td><td>&hellip;</td><td>&hellip;</td><td>&hellip;</td><td>&hellip;</td><td>&hellip;</td><td>&hellip;</td><td>&hellip;</td><td>&hellip;</td><td>&hellip;</td><td>&hellip;</td><td>&hellip;</td><td>&hellip;</td><td>&hellip;</td><td>&hellip;</td><td>&hellip;</td><td>&hellip;</td><td>&hellip;</td><td>&hellip;</td><td>&hellip;</td></tr><tr><td>&quot;chr7&quot;</td><td>&quot;ENSEMBL&quot;</td><td>&quot;exon&quot;</td><td>44116430</td><td>44116510</td><td>null</td><td>&quot;-&quot;</td><td>0</td><td>&quot;ENSG00000106628.10&quot;</td><td>&quot;protein_coding&quot;</td><td>&quot;POLD2&quot;</td><td>&quot;3&quot;</td><td>&quot;OTTHUMG00000022909.15&quot;</td><td>&quot;ENST00000610533.4&quot;</td><td>&quot;protein_coding&quot;</td><td>&quot;POLD2-218&quot;</td><td>&quot;1&quot;</td><td>&quot;basic,CCDS&quot;</td><td>&quot;&quot;</td><td>7</td><td>&quot;ENSE00000680769.1&quot;</td><td>&quot;&quot;</td><td>&quot;ENSP00000480186.1&quot;</td><td>&quot;CCDS75586.1&quot;</td></tr><tr><td>&quot;chr7&quot;</td><td>&quot;ENSEMBL&quot;</td><td>&quot;exon&quot;</td><td>44116115</td><td>44116272</td><td>null</td><td>&quot;-&quot;</td><td>0</td><td>&quot;ENSG00000106628.10&quot;</td><td>&quot;protein_coding&quot;</td><td>&quot;POLD2&quot;</td><td>&quot;3&quot;</td><td>&quot;OTTHUMG00000022909.15&quot;</td><td>&quot;ENST00000610533.4&quot;</td><td>&quot;protein_coding&quot;</td><td>&quot;POLD2-218&quot;</td><td>&quot;1&quot;</td><td>&quot;basic,CCDS&quot;</td><td>&quot;&quot;</td><td>8</td><td>&quot;ENSE00000680766.1&quot;</td><td>&quot;&quot;</td><td>&quot;ENSP00000480186.1&quot;</td><td>&quot;CCDS75586.1&quot;</td></tr><tr><td>&quot;chr7&quot;</td><td>&quot;ENSEMBL&quot;</td><td>&quot;exon&quot;</td><td>44115766</td><td>44115893</td><td>null</td><td>&quot;-&quot;</td><td>0</td><td>&quot;ENSG00000106628.10&quot;</td><td>&quot;protein_coding&quot;</td><td>&quot;POLD2&quot;</td><td>&quot;3&quot;</td><td>&quot;OTTHUMG00000022909.15&quot;</td><td>&quot;ENST00000610533.4&quot;</td><td>&quot;protein_coding&quot;</td><td>&quot;POLD2-218&quot;</td><td>&quot;1&quot;</td><td>&quot;basic,CCDS&quot;</td><td>&quot;&quot;</td><td>9</td><td>&quot;ENSE00000680764.1&quot;</td><td>&quot;&quot;</td><td>&quot;ENSP00000480186.1&quot;</td><td>&quot;CCDS75586.1&quot;</td></tr><tr><td>&quot;chr7&quot;</td><td>&quot;ENSEMBL&quot;</td><td>&quot;exon&quot;</td><td>44115295</td><td>44115396</td><td>null</td><td>&quot;-&quot;</td><td>0</td><td>&quot;ENSG00000106628.10&quot;</td><td>&quot;protein_coding&quot;</td><td>&quot;POLD2&quot;</td><td>&quot;3&quot;</td><td>&quot;OTTHUMG00000022909.15&quot;</td><td>&quot;ENST00000610533.4&quot;</td><td>&quot;protein_coding&quot;</td><td>&quot;POLD2-218&quot;</td><td>&quot;1&quot;</td><td>&quot;basic,CCDS&quot;</td><td>&quot;&quot;</td><td>10</td><td>&quot;ENSE00000680760.1&quot;</td><td>&quot;&quot;</td><td>&quot;ENSP00000480186.1&quot;</td><td>&quot;CCDS75586.1&quot;</td></tr><tr><td>&quot;chr7&quot;</td><td>&quot;ENSEMBL&quot;</td><td>&quot;exon&quot;</td><td>44114681</td><td>44114945</td><td>null</td><td>&quot;-&quot;</td><td>0</td><td>&quot;ENSG00000106628.10&quot;</td><td>&quot;protein_coding&quot;</td><td>&quot;POLD2&quot;</td><td>&quot;3&quot;</td><td>&quot;OTTHUMG00000022909.15&quot;</td><td>&quot;ENST00000610533.4&quot;</td><td>&quot;protein_coding&quot;</td><td>&quot;POLD2-218&quot;</td><td>&quot;1&quot;</td><td>&quot;basic,CCDS&quot;</td><td>&quot;&quot;</td><td>11</td><td>&quot;ENSE00003730786.1&quot;</td><td>&quot;&quot;</td><td>&quot;ENSP00000480186.1&quot;</td><td>&quot;CCDS75586.1&quot;</td></tr></tbody></table></div>"
      ],
      "text/plain": [
       "shape: (11, 24)\n",
       "┌─────────┬─────────┬─────────┬──────────┬───┬────────────────┬─────┬────────────────┬─────────────┐\n",
       "│ seqname ┆ source  ┆ feature ┆ start    ┆ … ┆ exon_id        ┆ ont ┆ protein_id     ┆ ccdsid      │\n",
       "│ ---     ┆ ---     ┆ ---     ┆ ---      ┆   ┆ ---            ┆ --- ┆ ---            ┆ ---         │\n",
       "│ cat     ┆ cat     ┆ cat     ┆ i64      ┆   ┆ str            ┆ str ┆ str            ┆ str         │\n",
       "╞═════════╪═════════╪═════════╪══════════╪═══╪════════════════╪═════╪════════════════╪═════════════╡\n",
       "│ chr7    ┆ ENSEMBL ┆ exon    ┆ 44123511 ┆ … ┆ ENSE0000372784 ┆     ┆ ENSP0000048018 ┆ CCDS75586.1 │\n",
       "│         ┆         ┆         ┆          ┆   ┆ 3.1            ┆     ┆ 6.1            ┆             │\n",
       "│ chr7    ┆ ENSEMBL ┆ exon    ┆ 44121834 ┆ … ┆ ENSE0000372549 ┆     ┆ ENSP0000048018 ┆ CCDS75586.1 │\n",
       "│         ┆         ┆         ┆          ┆   ┆ 3.1            ┆     ┆ 6.1            ┆             │\n",
       "│ chr7    ┆ ENSEMBL ┆ exon    ┆ 44117943 ┆ … ┆ ENSE0000357060 ┆     ┆ ENSP0000048018 ┆ CCDS75586.1 │\n",
       "│         ┆         ┆         ┆          ┆   ┆ 6.1            ┆     ┆ 6.1            ┆             │\n",
       "│ chr7    ┆ ENSEMBL ┆ exon    ┆ 44117619 ┆ … ┆ ENSE0000378998 ┆     ┆ ENSP0000048018 ┆ CCDS75586.1 │\n",
       "│         ┆         ┆         ┆          ┆   ┆ 5.1            ┆     ┆ 6.1            ┆             │\n",
       "│ chr7    ┆ ENSEMBL ┆ exon    ┆ 44117133 ┆ … ┆ ENSE0000068077 ┆     ┆ ENSP0000048018 ┆ CCDS75586.1 │\n",
       "│         ┆         ┆         ┆          ┆   ┆ 4.1            ┆     ┆ 6.1            ┆             │\n",
       "│ …       ┆ …       ┆ …       ┆ …        ┆ … ┆ …              ┆ …   ┆ …              ┆ …           │\n",
       "│ chr7    ┆ ENSEMBL ┆ exon    ┆ 44116430 ┆ … ┆ ENSE0000068076 ┆     ┆ ENSP0000048018 ┆ CCDS75586.1 │\n",
       "│         ┆         ┆         ┆          ┆   ┆ 9.1            ┆     ┆ 6.1            ┆             │\n",
       "│ chr7    ┆ ENSEMBL ┆ exon    ┆ 44116115 ┆ … ┆ ENSE0000068076 ┆     ┆ ENSP0000048018 ┆ CCDS75586.1 │\n",
       "│         ┆         ┆         ┆          ┆   ┆ 6.1            ┆     ┆ 6.1            ┆             │\n",
       "│ chr7    ┆ ENSEMBL ┆ exon    ┆ 44115766 ┆ … ┆ ENSE0000068076 ┆     ┆ ENSP0000048018 ┆ CCDS75586.1 │\n",
       "│         ┆         ┆         ┆          ┆   ┆ 4.1            ┆     ┆ 6.1            ┆             │\n",
       "│ chr7    ┆ ENSEMBL ┆ exon    ┆ 44115295 ┆ … ┆ ENSE0000068076 ┆     ┆ ENSP0000048018 ┆ CCDS75586.1 │\n",
       "│         ┆         ┆         ┆          ┆   ┆ 0.1            ┆     ┆ 6.1            ┆             │\n",
       "│ chr7    ┆ ENSEMBL ┆ exon    ┆ 44114681 ┆ … ┆ ENSE0000373078 ┆     ┆ ENSP0000048018 ┆ CCDS75586.1 │\n",
       "│         ┆         ┆         ┆          ┆   ┆ 6.1            ┆     ┆ 6.1            ┆             │\n",
       "└─────────┴─────────┴─────────┴──────────┴───┴────────────────┴─────┴────────────────┴─────────────┘"
      ]
     },
     "metadata": {},
     "output_type": "display_data"
    }
   ],
   "source": [
    "display(gtf.filter(pl.col('transcript_id') == 'ENST00000610533.4', pl.col('feature') == 'exon').with_columns(pl.col('exon_number').cast(pl.Int64)).sort('seqname', 'exon_number', 'start'))"
   ]
  },
  {
   "cell_type": "code",
   "execution_count": null,
   "id": "ce8ee583",
   "metadata": {},
   "outputs": [],
   "source": []
  }
 ],
 "metadata": {
  "kernelspec": {
   "display_name": ".venv",
   "language": "python",
   "name": "python3"
  },
  "language_info": {
   "codemirror_mode": {
    "name": "ipython",
    "version": 3
   },
   "file_extension": ".py",
   "mimetype": "text/x-python",
   "name": "python",
   "nbconvert_exporter": "python",
   "pygments_lexer": "ipython3",
   "version": "3.10.12"
  }
 },
 "nbformat": 4,
 "nbformat_minor": 5
}
